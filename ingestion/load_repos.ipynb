{
 "cells": [
  {
   "cell_type": "code",
   "execution_count": 1,
   "metadata": {},
   "outputs": [
    {
     "name": "stderr",
     "output_type": "stream",
     "text": [
      "/Users/jvh/Desktop/codemate/ingestion/.venv/lib/python3.10/site-packages/pinecone/index.py:4: TqdmWarning: IProgress not found. Please update jupyter and ipywidgets. See https://ipywidgets.readthedocs.io/en/stable/user_install.html\n",
      "  from tqdm.autonotebook import tqdm\n"
     ]
    }
   ],
   "source": [
    "import os\n",
    "from github import Github\n",
    "import requests\n",
    "from bs4 import BeautifulSoup\n",
    "import time\n",
    "import pandas as pd\n",
    "from tqdm import tqdm\n",
    "import time\n",
    "import json\n",
    "from multiprocessing.pool import ThreadPool\n",
    "from github.GithubException import RateLimitExceededException\n",
    "from urllib.request import urlopen\n",
    "from io import BytesIO\n",
    "from zipfile import ZipFile\n",
    "import datetime\n",
    "import json\n",
    "import pinecone    \n",
    "from langchain.text_splitter import RecursiveCharacterTextSplitter, CharacterTextSplitter, Language\n",
    "from langchain.docstore.document import Document\n",
    "from langchain.document_loaders import TextLoader\n",
    "from langchain.embeddings.openai import OpenAIEmbeddings\n",
    "from langchain.text_splitter import CharacterTextSplitter\n",
    "from langchain.vectorstores import Pinecone"
   ]
  },
  {
   "cell_type": "markdown",
   "metadata": {},
   "source": [
    "### Load all repos depending on FastAPI"
   ]
  },
  {
   "cell_type": "code",
   "execution_count": 3,
   "metadata": {},
   "outputs": [
    {
     "name": "stdout",
     "output_type": "stream",
     "text": [
      "Has 30 dependents\n",
      "Has 60 dependents\n",
      "Has 90 dependents\n",
      "Has 120 dependents\n",
      "Has 150 dependents\n",
      "Has 180 dependents\n",
      "Has 210 dependents\n",
      "Has 240 dependents\n",
      "Has 270 dependents\n",
      "Has 300 dependents\n",
      "Has 330 dependents\n",
      "Has 360 dependents\n",
      "Has 390 dependents\n",
      "Has 420 dependents\n",
      "Has 450 dependents\n",
      "Has 480 dependents\n",
      "Has 510 dependents\n",
      "Has 540 dependents\n",
      "Has 570 dependents\n",
      "Has 600 dependents\n",
      "Has 630 dependents\n",
      "Has 660 dependents\n",
      "Has 690 dependents\n",
      "Has 720 dependents\n",
      "Has 750 dependents\n",
      "Has 780 dependents\n",
      "Has 810 dependents\n",
      "Has 840 dependents\n",
      "Has 869 dependents\n",
      "Has 899 dependents\n",
      "Has 929 dependents\n",
      "Has 959 dependents\n",
      "Has 989 dependents\n",
      "Has 1019 dependents\n",
      "Has 1049 dependents\n",
      "Has 1079 dependents\n",
      "Has 1109 dependents\n",
      "Has 1139 dependents\n",
      "Has 1169 dependents\n",
      "Has 1199 dependents\n",
      "Has 1229 dependents\n",
      "Has 1259 dependents\n",
      "Has 1289 dependents\n",
      "Has 1319 dependents\n",
      "Has 1348 dependents\n",
      "Has 1378 dependents\n",
      "Has 1408 dependents\n",
      "Has 1438 dependents\n",
      "Has 1468 dependents\n",
      "Has 1498 dependents\n",
      "Has 1528 dependents\n",
      "Has 1558 dependents\n",
      "Has 1587 dependents\n",
      "Has 1617 dependents\n",
      "Has 1647 dependents\n",
      "Has 1677 dependents\n",
      "Has 1707 dependents\n",
      "Has 1737 dependents\n",
      "Has 1767 dependents\n",
      "Has 1797 dependents\n",
      "Has 1827 dependents\n",
      "Has 1857 dependents\n",
      "Has 1887 dependents\n",
      "Has 1917 dependents\n",
      "Has 1947 dependents\n",
      "Has 1977 dependents\n",
      "Has 2007 dependents\n",
      "Has 2037 dependents\n",
      "Has 2067 dependents\n",
      "Has 2097 dependents\n",
      "Has 2127 dependents\n",
      "Has 2157 dependents\n",
      "Has 2187 dependents\n",
      "Has 2217 dependents\n",
      "Has 2247 dependents\n",
      "Has 2277 dependents\n",
      "Has 2307 dependents\n",
      "Has 2337 dependents\n",
      "Has 2367 dependents\n",
      "Has 2397 dependents\n",
      "Has 2427 dependents\n",
      "Has 2457 dependents\n",
      "Has 2487 dependents\n",
      "Has 2517 dependents\n",
      "Has 2547 dependents\n",
      "Has 2577 dependents\n",
      "Has 2607 dependents\n",
      "Has 2637 dependents\n",
      "Has 2667 dependents\n",
      "Has 2697 dependents\n",
      "Has 2727 dependents\n",
      "Has 2757 dependents\n",
      "Has 2787 dependents\n",
      "Has 2817 dependents\n",
      "Has 2847 dependents\n",
      "Has 2877 dependents\n",
      "Has 2907 dependents\n",
      "Has 2937 dependents\n",
      "Has 2967 dependents\n",
      "Has 2997 dependents\n",
      "Has 3027 dependents\n",
      "Has 3057 dependents\n",
      "Has 3087 dependents\n",
      "Has 3117 dependents\n",
      "Has 3147 dependents\n",
      "Has 3177 dependents\n",
      "Has 3207 dependents\n",
      "Has 3237 dependents\n",
      "Has 3267 dependents\n",
      "Has 3297 dependents\n",
      "Has 3327 dependents\n",
      "Has 3357 dependents\n",
      "Has 3387 dependents\n",
      "Has 3417 dependents\n",
      "Has 3447 dependents\n",
      "Has 3477 dependents\n",
      "Has 3507 dependents\n",
      "Has 3537 dependents\n",
      "Has 3567 dependents\n",
      "Error\n",
      "Has 3567 dependents\n"
     ]
    }
   ],
   "source": [
    "\n",
    "repo = \"tiangolo/fastapi\"\n",
    "url = 'https://github.com/{}/network/dependents'.format(repo)\n",
    "nextExists = True\n",
    "result = []\n",
    "while nextExists:\n",
    "    try: \n",
    "        r = requests.get(url)\n",
    "        soup = BeautifulSoup(r.content, \"html.parser\")\n",
    "\n",
    "        result = result + [\n",
    "            \"{}/{}\".format(\n",
    "                t.find('a', {\"data-repository-hovercards-enabled\":\"\"}).text,\n",
    "                t.find('a', {\"data-hovercard-type\":\"repository\"}).text\n",
    "            )\n",
    "            for t in soup.findAll(\"div\", {\"class\": \"Box-row\"})\n",
    "        ]\n",
    "        nextExists = False\n",
    "        for u in soup.find(\"div\", {\"class\":\"paginate-container\"}).findAll('a'):\n",
    "            if u.text == \"Next\":\n",
    "                nextExists = True\n",
    "                url = u[\"href\"]\n",
    "    except:\n",
    "        print(\"Error\")\n",
    "\n",
    "    print(f\"Has {len(result)} dependents\")\n",
    "    if len(result) > 5000:\n",
    "        break\n",
    "\n",
    "    #time.sleep(1)\n",
    "\n",
    "\n"
   ]
  },
  {
   "cell_type": "code",
   "execution_count": 4,
   "metadata": {},
   "outputs": [],
   "source": [
    "with open(\"data/.meta/dependents.json\", \"w\") as f:\n",
    "    json.dump(result, f, indent=2)"
   ]
  },
  {
   "cell_type": "code",
   "execution_count": 7,
   "metadata": {},
   "outputs": [],
   "source": [
    "with open(\"data/.meta/dependents.json\", \"r\") as f:\n",
    "    result = json.load(f)"
   ]
  },
  {
   "cell_type": "code",
   "execution_count": 8,
   "metadata": {},
   "outputs": [
    {
     "name": "stdout",
     "output_type": "stream",
     "text": [
      "3567\n",
      "['HeavY-Futhark/EmoBot', 'olajide1234/nurfa', 'InteliProjects/2023M7T1-Inteli-Grupo-5', 'ClockGU/time-vault', 'Ipsitaaaa/Sentiment-Analysis', 'natalialuizads/guardiao-financeiro-api', 'KELONMYOSA/dl-course-cv', 'mysociety/twfy-votes', 'Ishsshukla/course_2_ml', 'quillan86/gambrinus', 'RolletQuentin/teasing-solver', 'Alfred910226/ptt-article-recommender-system', 'arunchandra23/tensorGo-assignment', 'gireeshkbogu/comic_grill', 'AI-Tarot/app-backend', 'mathis-blln/projet_info', 'Ayushithakur-2003/testapi', 'satyamkrchhetri/Sentiment-Analysis', 'yash-fetchai/whatsapp-webhook12', 'Ishatvb/Potato_Leaf_Disease_Detection_Appliction', 'krasulna/FormInspector', 'loupiote03/openshift_training', 'oliverxleecomcast/02_04_ci_for_python', 'nknguyenhc/NeuralCats', 'aguiarpaulo/api_project', 'hirebbec/web_chat_v2', 'ShirvanyanKaren/stock-analytics-pern', 'omsandipatil/RVC2', 'rafaelpierre/pitchgpt', 'elvishabib/Life-TL221-Challenge', 'wiretick/dopom', 'SueRix/API_Gateway_and_Auth', 'dkarduner/python-fastapi-esg_index', 'cucumberian/dsam_web_admin_backend_fastapi', 'ChanhNguyen17/opening-hours', 'fu7ur3gh057/MilligramAI', 'zitaker/test-task', 'jphacks/NG_2312', 'MesSilvia/BipBipBop', 'helt/fastapi-duplicate-models-in-jsonschema-repro', 'ErikAutenrieth/Stock-Prediction', 'jamessung644/playground_YOLO', 'Kawaz971/Jenkins-datascientest', 'DmitryDubovikov/FastAPI-RabbitMQ-Celery-MongoDB', 'bryan-becker-isi/art_http_inference', 'AI-School-F5-P2/NLP5', 'dheerajgopi/langchain-apps', 'asdfry/image-classification', 'berrybab6/bot-fast', 'Manifest-Git/FastAPI-Selenium', 'Rashid-creator-droid/api_yatube_fastapi', 'jonitaajamo/kv-server', 'anuj509/Demo-MLOps', 'osmancoskun/repo-man', 'ktktkd/eu3', 'vkopitsa/gpts-chat', 'Samynathan-S/Fast-API-and-Strawberry-GraphQL', 'mrKazzila/hotel_booking', 'Siddharth189/text-summarization', 'SergioCNCruz/ml-analise-de-similaridade', 'Nivedita2003/crudapp', 'yuugo0724/stm_be', 'danoprica/QuizApp', 'bambadij/sentiment_analysis_with_fastapi', 'ARCAFF/fapi', 'Deimvis/MafiaGame', 'jaguar-person/Kanban_React-FastAPI', 'zJvco/alimentarplus-api', 'Team-Finsight/Fin-tech-Bot', 'prefeitura-rio/prefect-auth-proxy', 'OlyaEf/BigBazar', 'lololo/sd-worker', 'DATAHOARDERS/UltimaScraperRenamer', 'nibralab/rag', 'Smegmatus/JennyGPT', 'CERES-Sorbonne/Defricheur', 'subroy13/multi-pdf-querybot', 'DmitryDubovikov/FastAPI-Mongo', 'gcmatrice/credit_score', 'Sholpan-B/Book_exchange_project', 'RandomOgre101/appleramen', 'gitmakes/v2tool', 'alexandreguedj/mana-vox', 'CarlosHenriqe/api-spotify', 'akkiaws/pr', 'ViktorGakis/social-media-rest', 'RWA-Liquidity-Hub/ai', 'DaniSoi/python-fastapi-project-skeleton', 'EcisSubmission/RefuGPT', 'AnamolZ/StockSwift', 'ozeliurs/ffmpeg-rest', 'diegoam11/api-reclamos', 'zo-no/zonoUserMange', 'tam159/generative_ai', 'ayhanoruc/chef-app', 'pstawekl/CodePass_ProgrammingLesson', 'ItsSomeGuy3332/dontlook', 'juastankina/notifications', 'haggalin/test-python-prisma', 'L-Balasrinivasan/ai', 'onwheelsapp/Amai-', 'scmmmh/video-browser', 'farrelarrizal/dengue-dashboard', 'thebjko/my-quizbase', 'king398/NeuripsLLMEfficiencyFinal', 'Sakshi12002/fastapi_login', 'Godzik82/MagazBot', 'dmtorol/actividad1', 'jeno-bellido/Pneumonia-Prediction-AI', 'jwkim386/KoLLaVA', 'hamza-shafiq/ForsitProject', 'Bailon18/anomalias-museo', 'wawan-ikhwan/cf-ztna-app', 'brivazz/leadHit_tz', 'bckyrd-io/fastapi-growth-ai', 'vuonglv1612/flight-assistant', 'LeonKilgoreTrout/test_task', 'YuriyBalandin/AB_testing_optimization_with_ml', 'WhoKnowsWhoCares/Huggingface_Gradio', 'LongNguyen159/ipv4_rechner', 'CharlesBoydelaTour/cv_qa', 'Qolorerr/SimpleFileDownloader', 'JorntHogema/g4s-bids-api', 'hemanth22/fastapiwebhook-green', 'srivassumit/python-fastapi-docker', 'MiracleInvestment/Miracle', 'xKarinSan/action-integrations', 'Modif93/fastapi-sqlmodel-template', 'askguruai/backend', 'lingjoor-research/llm-efficiency-submission', 'nostralliance/Fraude', 'MikhailMS/aws-simple-web-gui', 'walilentin/FastAPI_marketplace', 'alokpandey098/Daibeties_prediction', 'lucksoft-yungui/ChatGLM3', 'Jeremieon/Fast_Post', 'Sunbird-Obsrv/obsrv-api-service', 'leonidsliusar/webapp', 'SofiaSpinel/raiz', 'sdaaron/llm_daily_post', 'Mansukh-Singh/Question_Answering_Files-Langchain-', 'YXY1109/github_fastapi', 'yu-Stefanov/GitHubActions-Training', 'dongdongjae/user_package', 'ITA-Flowers/Zostan_w_Swidnicy', 'jyoovision/ArtechCapstoneProject', 'Dharmesh-infinite/react-media', 'jinwanseo/fast_api', 'grace-sanford/get-shippy-fullstack-challenge-sanford', 'gldnblgty/langchain_sql', 'pedrocavalc/Animal-Classification-System', 'vladfedoriuk/timescaledb-sqlalchemy-fastapi-multitenancy-demo', 'iAntonAMC/union', 'santinajar/raiz', 'aisaev-68/web_app', 'ahmed-sobhani/mock-chat-app-fastapi', 'daniel-codefresh/python-fastapi-skeleton', 'CSID-DGU/2023-2-DSC4007-6-6', 'rushikeshnagarkar/Text-Summarizer-Project', 'ecairn/minimal-embedchain-chromadb', 'RajeshThakur1/signature_verification', 'hemanth22/fastapiwebhook-blue', 'hi9900/P_ON', 'Sarcasticsalad/Airfare-Predictor', 'and-volkov/git-training', 'erichm1/partners', 'jojopalma/Entrevista_IngeniaSoft', 'JSha91/AiThreats', 'nogibjj/IDS_individual_project3_yc541', 'nogibjj/Individual-Project3-Yilin', 'revathysudheesh/Toxic-Tracker', 'kirandas-dev/backend-travel', 'nessshon/qrcode-fastapi', 'nikviktorovich/spimex_parser', 'vijayelementure/aqs_client_apis', 'rjvysakh/fastapi_task_1', 'Chaos0103/everySCHOOL', 'rusidol/fastapi-ml', 'finddme/RAG', 'Yaeger42/traxionch', 'eventqueue-io/eq-agent', 'vanvudev/SDCustom', 'ValeraRishniak/training_with_team', 'sebastian-sosa/pytorch-api-template', 'RogerioCrestani/tcc-simulador-analise-sintatica', 'BIPO-AISG-SMU/demand-forecasting', 'HenriqueCCdA/TriangInfos', 'vuno/report-factory', 'rfayat/fpga_clock', 'PragatiThakur-BC/project-Fastapi', 'reasonmethis/docdocgo-core', 'sgrijalbaf/Taller13', 'ajstorch/matchme', 'Pjt-Dorandoran/dorandoran', 'askguruai/coreml', 'romaha57/web_form', 'Manikanda-m/Kube', 'RiceWater/model-deploy-test', 'denkostash/Translator', 'mifluder/FluDo', 'ZenilOctavio/cafes-asist', 'tyang816/ProtSSN', 'Sakshi12002/my_contest', 'enguillem2/fastScrapping', 'kebochig/car_dam_det', 'matpauloDS/worker-pdf', 'kizataka/chatbot_lab', 'THEGAMECHANGER416/LandscapeColorizer', 'GonzoDen/31github', 'xXSnehalXx/textsummarizer', 'maaaaQ/EvoFP', 'bryampinos/FastAPI', 'SHAR05/fastapi', 'TinySkyscraper/senior_central_authentication_server', 'pdmuds4/raincloud-app', 'j-germino/fezf2-thymus', 'AnaghaAnn-gh/NLI_for_DB_visualisation', 'smileservices/openidconnect_client', 'berrygin/jin', 'geniadynamics/housify-web-server', 'AbhinayReddy24/AI_Implements_AI', 'drchaeos/Foot_Server', 'bscholer/pepper-pod-pal', 'CaiqueRibeiro/study-pontuation-model', 'GBSWHS/sowonpass-backend', 'WALA8/Docker', 'irfan-lie92/MesinSiti', 'AAEfimov/URFU_PI', 'pyae1996/dashboard', 'CosmosShadow/GeneralAgent', 'upul/Hello-FastAPI', 'lestherll/url-shortener', 'cramayag/Docker', 'DGM1206/quivr', 'bmsousa1991/imdb_api', 'Trilarydev/simple-apprunner-demo', 'iAaronLau/Polar-Net-Pytorch', 'dreamindsAI/PdfSummarizer', 'faysalewucse/sportx-server', 'Ismoil00/temp_fastapi_mongodb_project', 'oo-ni/boaz-engi-study', 'jbetancur21/API-Geoportal', 'nwsde/nwsde-azuretre', 'ArenaldyP/DNS-Spoof', 'yu-jeffy/GPT-128kDocAnalyzer', 'johnrofa/raiz', 'RWallan/task-manager', 'wangjueszu/v0.4.0-alpha8', 'supertimmyh/grade-6-math-helper', 'tienbku/simple-fastapi', 'wgomeza8/docker_prueba', 'junghoona/todos', 'dayknightmare/liquefier', 'Chat-Pub/ChatPub', 'Epinog/despliegue_s6', 'Lgrella/MiniProject8', 'tobthecreator/pasta-classifier', 'RafaelAntunes2/ass', 'FredericoIsaac/gateway', 'OneDayOneAlgorithm/Im_Fine', 'GL-KIM/2-retrieval-qa', 'jpcadena/fastapi-boilerplate', 'edummap4412/CeleryProject', 'dev-isaac/ops-sandbox', 'joseporres/lab_final', 'mbrah016/Skin_Diseases_ML', 'tsudonymn/AppreciatedIt', 'FilArt/commerce_sync_magic', 'hemant-technerd/openshift-fastapi-dockerfile', 'folkearen/cursos', 'PSU3D0/fastapi-quickumls', 'gabrielbga/taller-docker', 'Dmitry426/hse-fastapi-autotest', 'scottpeterman/MultiSShift', 'lucawen/fastapi_api_test', 'wojciech11/workshop_applied_machine_learning', 'livingspring/whoisspeaking', 'JuanReyes01/peopleCounter', 'PlebeiusGaragicus/TapDat', 'fsanal/fastapi', 'Makushkin123/fastapi-homework', 'MrPaivas/TTP-API', 'ObelusFamily/Anythink-Market-xhoow33l', 'salkinstitute/chat_api', 'masterries/MedicalMLDeploy', 'theroyallab/tabbyAPI', 'cuicuidev/pisoscom_backend', 'Denialll/ebne', 'JorgeGomezData/Proyecto-Movies', 'yersonargote/my-ollama', 'rick-c-goog/python-duet-ai', 'Smorenoacosta/taller13', 'pannixilinNFSC/chatbot_milesguo', 'vwarlet/FastQueueInsure', 'manoeljr/projeto-workshop', 'Yura192c/completed-forms', 'daniforeroolano/Taller13', 'fdb4/test', 'Deimvis/ToyProjects', 'RKostuk/Lab_2_SHI', 'goosebruce/featherweight', 'artexmg/myproject0102', 'JarcauCristian/pod_deleter', 'tengDeloitte/ui', 'pavel-97/devops_trainee', 'nevermarine/city-backend', 'rmarji/chat-langchain', 'rmarji/chatgpt-retrieval-plugin', 'CaesarCloudSync/CaesarAIFastAPI', 'MRNurutdinov/test_ops', 'Sholpan-B/FastAPI_3', 'criseduas/test', 'Joseph-Foley/xgb-optuna-by-llama', 'singlestore-labs/gpt-database-query', 'IvanCherepanov/TopicInsight', 'Jorge3129/channelify-bot', 'jazzandrock/channelify-shortener', 'centraldecompras/central-de-compras-backend', 'EusebioSimango/image-compressor', 'MariuszDrabik/AI_DEVS', 'RoronoaZoro321/SE_Connect', 'AGBullet/Software-engineering-1.1', 'BouajilaHamza/WeatherForcast', 'mborus/choose_htmx', 'NectoT/lead-hit-test', 'Luigi594/FastApi-Tutorial', 'Josehoyos26/Taller-1-S6-DSA', 'seun-beta/JVI-Tutorial', 'zeek/package-website', 'IA-PieroCV/chatresume-backend', 'Qredence/PythonAPIandMongoDB', 'cata1na/DSA_T6', 'RuslanUsmanov/k8s-demo', 'KonstantinKlepikov/ecom-test', 'ZLenon/restaurante-python', 'cata1na/DSA_TW6', 'DAmrGharieb/HFRAC', 'dpolimeni/carleader_bot', 'richardrs30/APIRest-FastAPI', 'timof1308/cuvis_demo_ui', 'jkw0781/LemonMusic', 'Dzigr/form-template-finder', 'j10sanders/PrivateGPT-backend', 'kajetsz/mlops', 'diegocondo10/fast-api-with-ibm-informix-demo', 'Olaw2jr/full-stack-fastapi', 'j10sanders/PrivateGPT-app', 'vghessel/NOVA_Seg', 'ivanbal93/team_18_back', 'danielokoniewski/sale-inventory', 'patricknormile/swe4ds', 'Shwetha21031/python_learning', 'SharmithaYazhini/langflow-railway', 'Subzwari1/Cloud_Contacts', 'raven-black-dream/tutr_reflex', 'The-Potato-Factory/magnetic-api', 'MoHi-Schedule/MoHi-Schedule-App', 'anaferreira150965/desafiotwitter', 'Bizongo/DS-Cohort-stack-rank', 'jfishb01/avalanche-forecast', 'phalbert/jenkins_cargo', '777boeing777/mongo-forms', 'oreomonke22/op', 'arun1125/arunhtmx', 'oreomonke22/openai-proxy', 'n1ckGG/FRT354', 'maewnarm/mir_robot_control', 'kaicong12/RAGGeneration', 'ErdemOzsoy13/Proshop', 'langchain-ai/infra-test', 'KasparPlaas/KasparPlaas.github.io', 'user0101010101/test_task', 'jsamec/dermi_test', 'gabriel-milan/solar-backend', 'BrandonSchoolPF/FastAPIArtemis', 'Calaghan1/py_form', 'PrathamHusky07/OpenAI_Chatbot', 'Nutrifolio/Nutrifolio_API', '05TELO/FastAPI-MongoDB-Docker', 'olegmenkov/MIEMards_backend', 'TP2512/FastAPI_Sample_Project', 'HanBinGer/SquadStat', 'griptape-ai/proxycurl-client-tool', 'WiemKhlifi/MLOPSC4', 'sostrader/erp-modules', 'Ker-r/cat_charity_fund', 'osirislab/CSAW-CTF-2023-Finals', 'mkeremavci/TextAudioAlign', 'RifleCityCoding/fast-fm-project', 'ankylos/ankylos-scraper', '13o-bbr-bbq/Broken_LLM_Integration_App', 'averagepythonfan/yt_music_bot', 'savvavoloshin/leadhit', 'dani-jimlar/djl_project_3', 'damarals/complet-api', 'jjovalle99/despliegue_semana6_1', 'bot-ssttkkl/nonebot-plugin-access-control-api', 'raybbian/grouch-web', 'add-itya/Potato-Disease-Classification', 'thexiang/wordle-app', 'ObelusFamily/Anythink-Market-67it0xcd', 'bloominstituteoftechnology/DS-Unit-3-Sprint-11-WIP', 'squaredev-io/embeddings-engine', 'adcha17/deploy-api', 'nathennavon/cderGPT', 'CinnamonSea2073/Genshin-status-cdn', 'Scyy-dev/FruitBox', 'meeklife/BookInventory', 'nicole-uchoa/crud-rabbitmq-kubernetes', 'smoke-m/room_reservation', 'lpcoutinho/mcenter', 'MaiNga-uit/scenic', 'Dragon402-arch/llmProject', 'hiro-okamoto-arcuss/docker-test', 'NLaundry/ACCESS-stack-spike', 'Ojasvisethi/fastapi', 'koshisinthehouse/lumidora-chatbot', 'AndieRowell/fast-fm', 'cezarmezzalira/aula16-usando-postgres', 'martink-fl0/selenium-chromedriver', 'kolesnikovvitaliy/lessons_FastAPI', 'Fenicu/craftbot', 'gaerini/graduate_repo', 'barnzgit/Jenkins-datascientest', 'Omafovbe/dtmb-credits', 'Geobilly/kempsreport', 'F4llen4ngel/hse_elections_forms', 'avof23/autoservice', 'Diegospf12/CapibaraGrooveFinder', 'victorlga/simple_python_crud', 'chadmasso/cookbook', 'worm128/ai-yinmei', 'VolodymyrVdovyn/fastapi_base_template', 'hemant-technerd/openshift-fastapi', 'apollo812/fastapi_oridosai', 'deadaf/evault', 'raflidev/vhd-detection-web-system-machine-learning', 'lucas-harpia/plugin-base', 'Leksandra87/PyQt_2023', 'Ilia1099/web_form_spotter', 'NonRem/recicla-tudo', 'Archit-Kohli/Landscape-colorizer', 'andy-krivtsov/TestAzureDeploy', 'awooooool/aws-load-balancer-test', 'johndeweyzxc/AWPS-Bridge', 'andreighinea1/msa_project', 'lmason2/bullpen', 'AmT42/ScreenGPT-Vision', 'CSC-256-Group-Project-9/Group-9-API', 'artem-git-hub/server_visor_public', 'fantasseryoga/todo-fastapi', 'Roha990/Cortex_Test_Task_fastapi', 'CS-Martin/greenguard', 'sobatha/translate_deepl', 'shoocamp/password-manager-edu', 'mankindjnr/resume-api', 'HumanBrainProject/hbp_neuromorphic_platform', 'notsugee/emodet', 'BDouglasAz/Python-project-Scripts', 'ml-natural-language-processing/chat-room', 'Kkkasum/TestTaskForVacancy', 'jossef/malicious-ai-demos', 'NVIDIA-Omniverse/iot-samples', '3v3ry0n3/FastChat', 'parijatkasbekar/fast-cicd-demo', 'MYanello/redis-caching', 'Gun-gang-hadang/ML', 'habib-wahid/langchain-llm', 'Korpaxdev/fastapi-todo', 'abrarhassan7809/wristband_event', 'lior42/portfolio', 'thisisadityapatel/continuedev_sagemaker_endpoint', 'dev-kang/ntwork', 'Andrilahere/ZYKA_chatbot', 'shyshach/github-parser', '1treu1/API-GCP-DNI-Extract', 'prateeky477/sp', 'IgorFreitasCruz/cross-selling', 'Govind-Shukla-Space/todo-demo', 'seeli-teaching/fastapi-first-steps', 'Kevalzalawadiya/e-doc', 'nocsland/program_engineering', 'ericolvr/ci-cloudrun', 'jsalcedo14/guia_6', 'cynthias13w/memories-classification', 'jaswantK19/ArbCsv', 'talis-fb/entendendo_containers', 'lightfi103/mern-docker', 'V3r1745/damhwa_fastapi', 'lvherrerab/Docker_nube', 'Immens95/PrivateGPT-app', 'emacha/colibri_interview', 'KennedyMungai/Dashboard', 'HermitBroccoli/Applicant365_server', 'FCTL3314/Completed-Forms-Identifying-Application', 'kindevelopment/test_for_victory', 'eaarda/url-shortener', 'IslamTambiev/currency-api', 'keitanamazue/lang_chain', 'terra-quantum-public/tq42-objective-function-quickstart', 'dream-aim-deliver/mpi-sda-llm-data-augmentation', 'sid-du/PDF_Text_Extractor', 'CS5500-ChonghuiWu/opp-api', 'dronperminov/SLAEAttack', 'nithinbn1997/lambda_docker', 'Kirill-Stepankov/statistics-service', 'Rustemhak/recsys_ai_talent_hub', 'BiGHeaDMaX/OCR-Projet-5-API', 'calapsss/datastax', 'marianortiz/EasyBuy', 'BrendaA04/heroku_backend', 'ContentGardeningStudio/fastapiexampleapp', 'miserani/puc', 'Sztosik/UP-WIFI-14', 'kashishvjain/cse207b-fastapi', 'man-yo/langflow-railway', 'Hu06/comp5331_metricprompt', 'TheSuncatcher222/cadastral_number_test_case', 'jinweis/Data_streaming', 'DuanBoomer/ams-backend', 'k-iseri/openai_sample', 'MahendraG28/API-Deployment', 'Himanshu-Dedha/ChessAPI', 'Dimanitto/validate_forms', 'MrSemyon12/form-service', 'BOmBzOO/bombzoo_home', 'slav-krav/onepager', 'rupeshshandilya/fluentFriend-backend', 'sajidahmed12/yolov5-fastapi-web', 'Change-Maker/example-fastapi', 'nvuloc/bookapp', 'ArsenalNox/jun_test', 'pruthviaws22/kubernetes-', 'Ramesh0996/k8.py', 'uicodee/template_lesson', 'HoangVM2k2/ChatBot_Food', 'hhk22/langchain', 'kausthub-kannan/language-chainer', 'mmorath/smartFactoryStructure', 'toantc1024/hcmute-pathfinder', 'Terrance808/COP5818', 'dalbodeule/filterbadword-backend', 'chevalsumo/5G-Services-Placement-in-Dynamic-Multi-clusters', 'R9X-bladerunner/joint_rides_app', 'sagarmounika/chess-dashboard', 'Erichorng/FastAPI-export-logs', 'oca159/traxporta', 'stoege/code4us', 'ChinJY/lora-instruct', 'lololo/rp_worker', 'toofnf/kelab-labs', 'MilesHan/getgpts', 'erankramf/Project', 'vicding-mi/openai-rag-test', 'Nika380/telegram-and-whatsapp-bot', 'sam-platform-auto/TestAutomationRepo_11-16-2023-11-6-32-AM', 'tyMadara/ILS-CSL', 'Antara999333/DE_Individual_Project3', 'FacultadInformatica-LinkedData/Curso2023-2024-ODKG', 'sergkim13/form-finder-service', 'jayreddy040-510/nexifo', 'Esubaalew/sobeye', 'ChenotConsulting/marketing-automation', 'byungkwonc/slackbot', 'bhartiyaanshul/websocket-python-fastapi', 'uneetkumarsingh/jalaj_chatpdf', 'ADv0rnik/fastapi-microservices', 'restjun/fastapi1', 'jayteeG/lc-chroma', 'craighagerman/zasshi-app', 'IsaacOrzDev/sketch-blend-temporary-api', 'hirebbec/fastapi_microblog', 'antoniovmonge/fastapi_movie', 'hoto17296/terraform-azure-webapp', 'Wilovy09/FastAPI-CRUD', 'nomad-coe/nomad-parser-abacus-plugin', 'restjun/fastapi', 'Diego22rct/TrabajoFinal-Complejidad-Algoritmica-Backend', 'Saarthi-ai/Sales-And-onboarding-NLU', 'VSK27901/Local', 'RajK-NeetiAI/Values-Agrocel', 'anthonySemaan01/vsm-text-search', 'youxiaomin/Langchain-chat', 'Nenad7955/mintTokensPython', 'flojoy-ai/studiolab', 'JahanavDixit/Fake-News-Detection-using-NLP', 'MePiyush/FactCheckGPT', 'tomcotter7/research-notes', 'tikkoro/aws-cdk-sample', 'ho-cyber/auto-board_game', 'sharkkkkkkkkk/stabledifusion', 'sshawnsong/WizardsOfOCR', 'allen3325/PTTSocailEngine', 'hshlangel/pre_desktop_agent', 'AscenderTeam/AscenderFramework', 'uoa-compsci399-s2-2023/capstone-project-team-34-code-critters', 'ye-yu/mypy-fast-api', 'yangzhi8031/quivr_bk', 'hong00009/notice', 'fR1k0/ng999', 'Neukiru/pdf2text', 'Thomasaujoux/reg', 'michellcampos/ShortenerApp', 'fastcodekr/queen-server', 'superken01/lazygpt', 'Nocom-Pila-Ing-Software/LaCosaBack', 'JonathanMF2020/gestor_gastos', 'MaruthiKo/kickstarter_projects', 'renatisch/hanna-fast', 'ray870211/my-api', 'waleedkadous/ansari-backend', 'jingleMyBells/ecom_test', 'wakanore/Voyage', 'blackHATred/Moments', 'l2bote4game/FRT', 'AggarwalJitesh/GCP-BackEnd-Repo', 'aiondemand/aiod-practitioners-portal-backend', 'JoshCap20/Encrypted-Message', 'estellez7/FastAPI', 'yemregundogmus/gsu-fastapi-streamlit-kafka', 'Einfachalf/Embed_ai', 'JuanCamiloBlandon/DeseaseApp', 'MarcoC1796/challenge_MLE', 'mounika2906/text-summarization', 'IanWearsHat/SorryProfessor', 'YashReckonsys/pdfbot', 'Manaya525/OK', 'zhangzhengde0225/Xiwu', 'LLMsmartplay/SmartPlay', 'kakaroter/data-visualization-docker', 'Manaya525/420', 'HarikaMolakalapalli/TextSummarizerProject', 'aizazhussain341/forsit_demo_task', 'shahrushi2003/Dataset-Rebalancing-using-SlotVQ', 'Kyleetd/books-to-read', 'jvmorenot1/Taller_3', 'astroket/xsearch', 'ksylvan/Zoom_OPM', 'jonathanmli/Avalon-LLM', 'zit-software/text2sql-api', 'chiheye/model_api', 'tsai0ajx/fastapi_htmx', 'scriptsnet/newai', 'dminhk/hybrid-search-weaviate-hackathon', 'SALEH846/FastAPI', 'ThJuanK/base-login', 'simrunsharma/Individual_Project_3', 'chgeonlee/croft', 'Nicolasalan/fastapi-31t2', 'afraa-n/individual_project_3', 'elkindavid/Docker-2', 'nikhilkomakula/digitalocean-sentiment-analysis', 'nwoolr20/InvokeAI', 'nwoolr20/mlc-llm', 'nwoolr20/ray', 'nwoolr20/quivr', 'nwoolr20/stable-diffusion-webui', 'Manish06097/DpsChallenge_AI', 'farazjawedd/Individual2_databricks', 'lorifranke/autorlx', 'jsperdomo/semana5', 'Musyoki-Wambua/FastAPI', 'Ezequiel-Cheque/backend-elim', 'kicamSM/Capstone2', 'phenikaaphuoc/test_socket', 'Mvty12/FastApi', 'GArosy/langflow-railway', 'kilescg/sde-super-app', 'Danielmv19/disney_movies', 'gschmittlein/eeyore-news-bot', 'silvering-steve/face-3d-generator', 'RussellLoveCoding/batch-bilingual-book-maker-v2', 'sexton-luke/media-converter', 'zhuminghui17/ids-p3-mz223', 'Lgrella/LG-IndProj3', 'VijayrajS/ShopGPT', 'fga-eps-mds/2023.2-UnB-TV-VideoService', 'flowerbling/app-for-us-api', 'ngocthien2306/be-cctv', 'djban/Custom-RVC-WebUI', 'andsieu/RepoW6', 'beautifulsumday/chatglm_server', 'jhobahego/backend-etica', 'aurelienbono/recommandationSysApi', 'walber-vaz/python-architecture-project', 'juandaroldanr/Juan_Taller_2_S6', 'ClauBaqueroRico/Taller_Docker_1', 'peterwwillis/palvella', 'Wittmann1988/MYtest', 'qkhanh711/lecture-copilot', 'milab-kochi-u/good_habits', 'CurrySin/HJC-Memeber-System', 'MyPingO/chAfs-kIss', 'hhenrichsen/ws-example', 'jinweiluo/gpts', 'mo1ein/feedbook', 'tencentmusic/supersonic', 'Touexe/fastapi-experiments', 'Pasmesko1986/UTN-INSPT', 'GenomicMedLab/variation-normalizer-manuscript', 'kiecodes/kiecodes-gpt-webapp', 'yunikeil/HuntStatsServer', 'feVeRin/yolo-tango', 'jarokaz/saxml-sandbox', 'Flowmikro/Templates_FastAPI', 'marquesdjuliana/restaurant_orders', 'kumarrohit26/sensor-fault-detection', 'Atttractor/TestTask_e.Kom', 'nabeelibrahim13/MedicalDiary', 'albakore/fastapi-router', 'christopherfrige/manwha-reader', 'EvstratovRG/foodgram-fastapi', 'deepshah995/navidrop-api', 'G3mha/Gym-Bros', 'mohcineelharras/whisper-llm-gtts', 'Jcseeco/router_aggregation', 'marcelperezrubin/python-javascript-chat', 'kluev-evga/webapp', 'KennethGrace/HeyGPT', 'daviddzxy/MicroBlog', 'TampelliniOtavio/monitoring-api', 'ianolpx/fastapi-jwt-tester', 'dnigamer/dashboarduni', 'ericj-db/lakehouse-apps-ide', 'xorwise/leadhit-tz', 'arielsepton/python-server', 'nogibjj/Alicia_individual3', 'leekwansoo/bipasori-sql-jinja', 'jawauntb/emojipt', 'leekwansoo/bipasori-mongo-jinja', 'RohanAwhad/fun_crawler', 'saikrishnakuppa/python', 'lvherrerab/Docker', 'DigitalHarborFoundation/keylog_ReactJS', 'ObelusFamily/Anythink-Market-rwdk8m2p', 'edcalderin/machine-learning-zoomcamp', 'CesarArathAP/heroku_backend-flask', 'enguy-hub/streamlit_fastapi_firms', 'rchandu985/fastApi', 'ruvnet/coding-wingman', 'mgbvox/chevron_fast_html', 'fernandofks/robo_instrumentador_backend_render', 'pbmstrk/hn-trends', 'HeimSec/reqgen', 'RVCA212/researcher', 'orliukoff8/coursework', 'tomes232/my-portfolio', 'alessandroamenta/bulkv3', 'katelyn-hucker/Individual_Project3', 'babithakur/FastAPI-Quiz-App', 'gitchrishan/PythonDockerContainerDevEnvironment', 'Mansisarda1999/Text-Summarization-using-NLP', 'julianoAlessandro/PI3-AlertaAlagamento.', 'ChrisPerz/FastAPI', 'RocketDav1d/callforce-worker-backend', 'diagrid-labs/catalyst-webinar', 'shrik450/aqo', 'c-base/matelight-pixel', 'michaeltoohig/unofficial-vmgd-api', 'nanoskript/dtext-docker', 'juanrave/docker', 'oliveiraphm/API-workshop', 'DanVerh/mlops-team50-chat', 'efriis/hosting-test-2', 'AnGaviria/Taller_docker_w6', 'RagNavor/FAKE_MLB_API', 'efriis/hosting-test', 'julienAta/backend-chatbot', 'ArseniSakhnik/mlsat-satnogs', 'chayan007/supersaver-sync', 'AliasAntoine9/dockerization', 'hyzhangnu12/FastAPI-apps', 'itcentralng/connected-cohere-hack', 'HugoChaves86/no_fila', 'sialiaga/toma_de_ramos_app', 'benjirer/chatPDF', 'LOSEARDES77/downloader-api', 'bisgaard-itis/StreamingExperiments', 'ObelusFamily/Anythink-Market-ppd6z83t', 'PKU-YuanGroup/Chat-UniVi', 'visor517/xops', 'ollama-webui/ollama-webui', 'lward27/finance_app_database_service', 'CameronSima/recyclar', 'imclennan-D/GenAICapstone', 'flavio185/mlops-in-4-weeks', '5alex52/calculator', 'luis8choa/curso-python-pip', 'bellhops/fastapicrud', 'tiangolo/full-stack-fastapi-postgresql', 'AlShag/form_templates', 'SmartFinance-Grupo3/SmartFinance-API', 'tabletopapp/bottleservice', 'gt-sse-center/ramanujan-machine-web', 'RedFoxiCoder/otus_python_specialisation', 'bert-luo/docbot', 'Lgrella/Individual-Proj-3', 'ObelusFamily/Anythink-Market-snfxdlgh', 'johnplt/ted', 'SeregaSil/pt', 'KotonohaProject/kotonoha-apis', 'enguy-hub/streamlit_fastapi_nominatim', 'WillCBurroughs/fast-api', 'karpatkey/rolesapi', 'VadimMarenko/python-web_hw_13', 'wadie-lak-tuto/cloud-run', 'Sancezzi/FastAPI_booker_app', 'ridge-kimani/library-api', 'igorkolechkin/coffee-util-server', 'MarkoUljarevic/levi9-five-days-in-the-cloud', 'DylanWDev/Fast.fm', 'AlexanderUp/leadhit', 'juhalo/handwriting-improver', 'nogibjj/Rmr62DataBricksEtl', 'MiguelAngelLH/heroku_backend', 'Dinmukhamet/fastapi-starter', 'ObelusFamily/Anythink-Market-cmalxsfl', 'Gwinkamp/allure-report-dwarf', 'AnudeepGadi/ACES', 'polyneme/helioweb', 'wendelduarte/python-projects-axample', 'i343SPARK/NaoCourses', 'SkyeFull90/farmStack_dir', 'StephanMMM/Shop_API', 'johnneon/se_sf_2023', 'paulgibert/chaingpt', 'nogibjj/ids706-individual-project3', 'l3lackJack/DAW2324_S3_E1', 'palakpaneerer/Deploy-FastAPI-to-Heroku', 'remmover/social_network', 'KarinaGonzalez99/Projeto-Restaurant-Orders', 'AbdullahProjects/Indian-Foods-Recommendation-System-App', 'ZekangZhouKGR/devfastapi', 'mahfuzurrahman98/financial-helth-calculator', 'djangoreactdev/ai-checker-code', 'yoong4d/doc_test', 'CodeDealers/docker-compose', 'HAL9KKK/Function_call', 'yaminbd/CNN_Potato', 'Janarthanan-Gnanamurthy/Placement-module', 'SeleznevIlya/E-commerce-App', 'Mounika101/predict-model', 'Jackson-Vieira/fastapi-cache-crud', 'harshkumar077/chatbot', 'NishaniKasineshan/End2End-Model-Deployment-test', 'sovietspy2/micro_blog_subscribe_service', 'Santiago-penetrator/prueba_repo', 'jpyorre/URLAnalysis_at_Scale', 'PolusAI/microjson', 'DeVriesMatt/dsmil-devries', 'kirill0720/strawberry-graphql-example', 'venkatapathy/hb-predicition', 'OKeylo/CarSale-backend', 'rrsingh11/devops-project', 'rahuljoshi1729/google_auth', 'DNavas17/functions_from_zero', 'grabskilukasz/kwiatki_new', 'fehmikahraman/fastapi-socmedapi', 'YelaniaCarolina/MIAD_Despliegue_S6_Entrega_2', 'guluzadehh/form_test', 'EmmS21/boxinggame', 'reading-analytics-group/SandCastleReader-Server', 'msrshahrukh100/ChatGPT-Custom-UI', 'juhaniguru/fullstack_course_template', 'mateusribs/dilife', 'NechepurenkoA/QRkot_spreadsheets', 'christopher-alabada/portfolio-backend', 'mariepop13/incredibubble-tea', 'hsdevelops/cron-telebot', 'mirrorrim/service-example', 'serlo/content-generation-service', 'peritectico/curso-python-pip', 'yanm-dev/fastapi-payment-getway', 'devmuhammadd/Defekte-Melde-System', 'Chronomia/TeamUp_Users_microservice', 'mokybrow/test_work_form_validator', 'A-Aparna/mlproject_scaffold', 'DariaMishina/spellchecker', 'drestrepob/fastapi-apikey', 'MTES-MCT/ecobalyse', 'ASINGH41/product_listing_API', 'HansRafael/4-phrase', 'hzmarrou/azopenai-training', 'duleignjatovic995/jtprep-test', 'darshil929/chatbot_food_business', 'steve148/opentelemetry-gcp-demo', 'DavuKX/turing-automaton-backend', 'dsldk/Collocator', 'unkmlenjoyer/news_classifier_service', 'Rhine-AI-Lab/KW-General', 'hoshbosh/jum', 'kristianjackson/oversight_data_scraper', 'magamahae/2.FastAPI_Render', 'sntx10/Test-case2', 'zaourzag/AutoGPT', 'spdrnl/r-fastapi', 'Martin-Paolo-Kennedy/FastAPI2', 'BinaryLynx/fastapi_trading_demo', 'muyuworks/myla', 'fann1993814/celery-flow', 'henningWoehr/test', 'Esrappelt/ai', 'eloipereira/ce290i-microservices', 'akenda61/SpeakerSource', 'VerdantFox/hot-reload-examples', '1999AZZAR/Palm-powered-telegram-bot', 'AndresHernandez15/DS-AgriculltureCompany', 'humancoder1/Internship_Recommendation_model', 'Cak3rzs/rest_api', 'johschmidt42/App-Roles-Azure-Static-Web-Apps', '30225/backend', 'raeeschachar/stockQuote', 'dtype2100/test', 'arahitogami/test_e_com', 'JonWakefield/Anvil-Web-App', 'baasare/addshare', 'AshleyLuo001/pure-convolution-unet', 'vallbull/poteryashka', 'n1ckGG/FRT', 'Gigamakhijo/Stunning-Server', 'casssapir/gpt-search', 'danordcor/mle', 'Tanner90909/fastfm-spotify', 'MANMEET75/CokeAPI', 'magamahae/Render_FastApi', 'thornewolf/fastapi-tailwind-database-openai', 'ahao121388/dfml-alter', 'micad132/BAI-PROJEKT', 'Kmohamedalie/AutoML-PyCaret', 'openfoodfacts/open-prices', 'alfiemohamad/fakenews', 'vladaerastova/weather-test', 'DmitriyVasiliev/nnwui', 'lward27/scraper_manager', 'yaxzo/test-task-for-LeadHit', 'rajnishspandey/PythonFastAPI', 'isa96/semantic', 'DorotaBjoorn/Text-Classification-LIA-project', 'alertvirus/crunchdocs-api', 'Unuseptiy/phone-address', 'ClayCheung/llm-chat-template', 'DorotaBjoorn/Active-Learning-LIA-project', 'FREAS-tools/freas-analyzer-validity', 'heysaeid/fastapi-and-babel', 'Baddogel/URFUML2023_SE_Team1.13', 'Cirilus/Gun-Detect1', 'isa96/mlep-energy-forecasting', 'nathansegers/MLOps-pipelines-2023', 'mariemeSall/ia-api', 'alvarofranciscomiranda/pytech', 'Cirilus/Gun-Detect', 'bondarevsa/microblog_fastapi', 'Deimvis/WebPortfolio', '34245621/QQMessagePush', 'ramosfabiano/rinha-de-backend-2023-q3', 'nickuzmenkov/community_management', 'Gaebugger/GaebuggerPR', 'Q1nfo/fastapi-movie', 'elphie-hb/cheerupbot-test', 'DemyCode/ucb-api', 'xevenai/Virtual-asisstant-02', 'agnesR23/Projet7_OC_Datascientist', 'nogibjj/Sjg80-Databricks_ETL_Pipeline', 'AiroPi/notion-map', 'isa96/house-price-prediction', 'th3Maid/PythonForMaids', 'cenrak/ml-epiphany', 'ThomasCouloud/cv', 'Little--ZM/langflow-railway1', 'gianlucacaiazza/swdevel-lab-hfarm', 'wensiet/e-com', 'lionsbot-official/fleet_adapter_lionsbot', 'KiraUnderwood/microservise', 'dracarys69/deezloader', 'Tapia641/terraform_devops', 'pruthviaws22/kubernetes-project', 'abdulsamodazeez/heart-disease-prediction', 'princefrancis64/aps-sensor-fault', 'Patron322/fastapi_mongo_test', 'Prempk-98/sse-python', 'anza-afk/form_api_test_task', 'pruthviaws22/k8-project', 'Hedgehog2484/Algorithms-demonstrator', 'llirik42/Timetable-Manager', 'worthy7/zenml-learning', 'max-silent/auto-activate-sm-workflows', 'Timurjumaev/TweenAPI', 'ngocthien2306/streaming', 'aiexplorations/semantic_search', 'DevPeter1454/Jobetude-Backend', 'Rhange/Fullstack-GPT', 'd-o-p-e/imbedded-lgtm', 'mubashirhanif/hisaab-kitaab', 'BaptPicxDev/bpd-sqlalchemy-example', 'ashirafumiiro/kaey-fastapi', 'muratisiklan/mlproject', 'K-luster/receipt-example', 'makiaveli1/Julie-GPT', 'teamdatatonic/gen-ai-hackathon', 'ahndawn/Exclusive-Lead-Server', 'richardogundele/diamond', 'omkardarves/fastapi-error-logger', 'ttt246/Brain', 'defend3/melanie', 'saidisbah/sd', 'EveningStudy/LLM-KnowledgeBase_APP', 'SANJIKS/Forms', 'daecgu/FrontEnd_Cantemus', 'Padliwinata/capstone', 'MathisLagouge/wineAPI', 'superbero/Jenkins-docker-images', 'LeoURJC/A_rmf_tests', 'mumorgir22/e.com_test', 'Dhritiman-AgSpert/Local-Ecommerce-Backend', 'sam-axcient/github-actions-cache-presentation', 'Bideauquen/bacchus', 'addrob/mobicult_test_task', 'Mimi97-aqua/llm', 'ygcaicn/fast-well', 'yuta3003/fast-api-template', 'bednick/template-monorepository-py3', 'ct-richtech2023/Nasdaq_BartendingSystem', 'nogibjj/IDS706-Individual-Project-3-sp699', 'toverainc/willow-autocorrect', 'lNamelessl/foodie', 'kwemard/projet7', 'anurag629/YouTube-Analytics', 'LAMagicx/wine-site', 'Seanman519/RLBOT', 'nhattan040102/fastapi_learning', 'poloniki/testCi', 'tri6odin/FAP-AMS', 'viraj-s15/upwork-project-web-crawler', 'keio-smilab23/MultiRankIt', 'zy421127/paddleocr', 'Rishikr15/sentiment-analysis', 'AKovalyuk/test-task', 'shimoku-tech/shimoku-api-python', 'MichielMe/Nast-Template', 'KKristof452/MusiQ', 'cheefuyoong/backend', 'trongthanht3/vbpl_crawler', 'obafemi-i/Autotube-gateway', 'Mkamono/box-over-looker', 'jerryjliu/create_llama_projects', 'ccherrad/rapid-dev', 'SanyamSwami123/mlops-template', 'sam-platform-auto/TestAutomationRepo_11-15-2023-10-41-13-AM', 'ERodbot/Package-Hub', 'SINikiforov/fast-api', 'dmytro-spodarets/Introduction-to-MLOps-LLMOps-UA', 'natehalsey/Fridget', 'ebidotpy/ete_face_recognition', 'fmowl10/Clist', 'JngMkk/chatgpt-websocket-test', 'hybristan/AgentGPT', 'tyyrok/test_task_Antipoff', 'yinjiannan1/my_sweep', 'dk-star/fastapi-template', 'kuk86kuk/SkyScrubberFastAPI', 'zwiktor/FastAPI_Blog', 'HuangXinzhe/chatpdf', 'alexgbernier/featherweight', 'ObelusFamily/Anythink-Market-u4szdemy', 'felipemendes/fastapi-template', 'JJLEE-20194099/check-house-owner', 'Fyleek/render-api', 'terateams/GPTService', 'AIEatsTheWorld/VercelAPIStockTicker', 'ObelusFamily/Anythink-Market-r7vzuazx', 'ObelusFamily/Anythink-Market-9m3xy2g6', 'Kurrawong/VocExcel', 'HyeJung-Hwang/boaz-docker', 'ObelusFamily/Anythink-Market-iqiksyxj', 'AstridXiomara/API-Railway', 'seongmiku0917/fullstack-gpt', 'hoahoa3197/FRT2', 'aignise/Google-Trends-API', 'nogibjj/IDS706-Databricks-ETL-YuhanXue', 'movier/wechat-ai', 'jerrysamuel/FastApi_CRUD', 'hoahoa3197/FRT', 'troyanoff/test_e_kom', 'adamsoja1/knowledgebase', 'Nick-Harvey/gradio-assistant', 'abhash-rai/traffic-image-classifier', 'gabrielfu/llm-streaming', 'huongphamx/ysv', 'HemanthSai7/FastAPI-Deployement', 'jpbscolab/render_test', 'JessicaNaizaque/debut', 'pnavab/omegel', 'yogeshhk/Sarvadnya', 'rubybear/langchain_workout', 'calapsss/langflow-railway', 'ChinchorePrateeti/Django-To-Do', 'edpyt/fastapi-sea-battle', 'JoshCap20/PushNotificationServerFramework', 'Noah-kang/Gudgement', 'vinhprs/global-debate', 'Safia-Bakery/finance2', 'Myxogastria0808/contents2023', 'yu-iskw/dbt-artifacts-loader', 'notvicent3/machine-learning-engineering-for-production-public', 'notvicent3/vllm', 'notvicent3/chat-langchain', 'notvicent3/ai-training-examples', 'notvicent3/gradio', 'notvicent3/stable-diffusion-webui', 'notvicent3/text-generation-webui', 'notvicent3/quivr', 'notvicent3/gpt4all', 'notvicent3/Agent-LLM', 'notvicent3/Poker', 'notvicent3/Auto-GPT', 'notvicent3/langchain', 'smartinternz02/SI-GuidedProject-611273-1698304670', 'AIk1r/web_app_task', 'mangatrai/vector-db-examples', 'tangledpuzzle/Fluent-AI', 'krish-gdp/Sensor_Fault_Detection1', 'noahtigner/Docker-Diagnostics', 'Innayy/generative', 'GeorgeOgeorge/fastapi_cookiecutter', 'lmstudio-ai/examples', 'sakrussi/taller_docker', 'OpenShiftDemos/fastapi-lightspeed-service', 'RedCommander735/Untis-Messenger-Archive', 'Mi-TZ/vectify.ai', 'Chandima301/GTN-Copilot-Demo', 'milsman2/gh-actions-lab', 'alonso9904/cards-fast-api', 'krish-gdp/Sensor_Fault_Detection', '3tilley/hue-thief-ha-addon', 'sk8y/test-app-employee', 'ecodan/llm_playground', 'Ernar2002/swapping-book', 'ankush-ksharma/LLM_Experiments', 'jcf1/Loop-Finder', 'cobrastorm/athenatest', 'TrueRou/scrcpy-mediapipe-pose-pico4', 'hubenchang0515/easyapi', 'lifeatedelab/tsdn-cyberpolice', 'lkubicek1/Quantum-Research', 'jqrprogrammer/AWS_ECR', 'zachcass/FinalYearPro', 'ct-richtech2023/Mixed_Drink_and_Beer', 'jeyreichel/recapturev2', 'nogibjj/IP3-sy275', 'VinnRe/Asterisk', 'ingkle-oss/deltastore', 'julianesp/ejercicioSeleccion', 'oushinco/llava-models', 'oushinco/llava-gradiowebserver', 'oushinco/llava-controller', 'WanNJ/LearnFastAPI', 'dotzenith/AvatarAPI', 'AndresAriasG/TSemana06', 'babymonkey1111/mini-fastapi-postgres-template', 'disisvm/EcoSentry', 'lucas-pmelo/api-gs', 'millerpuentes/Semana_6_2', 'veraprime/CI-CD-with-GitHub', 'AlanJumeaucourt/hitorflop', 'kalikokalikova/moodtracker', 'JpedroCSantos/workshop_2', 'Marshall483/recSys', 'juandaroldanr/Juan_Taller_1_S6', 'gbolly/colander', 'statisthong/Youtube-Tutorials', 'statisthong/watsonxRAG', 'scint-labs/website', 'sus-detection/search-api', 'AlexNicolasCode/transactions-microservice', 'mariagomezv/FinalTelematica', 'orchidmedia/gpts-test-orchid', 'ggomez1803/DSA_lab6', 'cornboyfresh/mister-boy', 'BulatTim1/CHAD', 'andres-saa/modulo-brayan-backend', 'segurao/Guia6_2', 'smalltong02/keras-llm-robot', 'oushinco/llava-repo', 'pythoness1/Semana6', 'fernandofks/robo_instrumentador_backend', 'jqrprogrammer/Docker', 'evaluating-effectiveness-cloud-nlp/replication_package', 'osengaa10/RAGS', 'Shuwenf/onjas-buidl-GPTs-ads-backend', 'LuisCaPacheco/APIpedidos10', 'JoaoLucasAbreu/FastApi-CICD', 'Mamesa-El/Projects', 'bbi-lab/redcap-support-core', 'thienantran010/FastAPI', 'Fa-bi-an/chatui', 'markoceri/giradesktop', 'ElaineLLL/TapiocaCafeManagement', 'olegdenko/HW_WEB13', 'soyboy17/openai-demos', 'torchme/mlsys_case6', 'RWallan/food-menu', 'rafaelwars/mentoriaibm', 'Shuwenf/FastAPI', 'Jackson-Vieira/fastapi-review', 'JP-Mbaka/parkinsons-ml', 'ken999999999999999/facebook-clone', 'NeuralDepth/PictionaryAI', 'O-tero/FastAPI', 'Cutwell/langchain-in-Y-seconds', 'tomlongridge/pypeal', 'BixGra/SpotifyWidget', 'AlexBabilya/ComputerGraphicsLPNU', 'data-d-s-d/Projects-2023', 'caylent/reinvent-session-concierge', 'juliet-karpah/bioXChatGPT', 'konstantgr/RecoServiceTemplate', 'ObelusFamily/Anythink-Market-40tn8jj5', 'marcjbaron/soccer_scouting', 'MekkCyber/nltk_summarization', 'candemas97/audio-to-text-transcription', 'thetruerailen/PandaAPI', 'camisie/TP-BDII', 'alifarhan-id/fastapi-payment-gateway', 'nogibjj/Vivian_Project11', 'potatoboiler/aimelia', 'nogibjj/Individual_Project3_Kelly_Tong', 'tommytyc/RSVP', 'SherGleb/Cadastre', 'OlenEnkeli/north_admin', 'buenoleonardo1/nossa_primeira_api', 'jrmcauliffe00/cwl-airflow-compose-1', 'RaghulRajM/Document-Chat-with-LLMs', 'alexandergirardet/A3', 'jeremy-hicks05/Portfolio', '1965vl/project_fast', 'stewart-lab/scRNAseq_library', 'Roman-Zhirovskis/FastApi_init_db', 'AnmarHani/ARVenture', 'xonariah/AI-Voscilnica', 'lyorrei-inteli/ponderada4_mod8', 'denis240997/gosuslugi-e-sign-verifier', 'nogibjj/Yuwen-IDS706-individual3', 'jacriollo9/chatbot_banco', 'donia-sameh/ResuFit', 'efaraz27/house-price-prediction', 'pirocheto/phishing-detection', 'evanshlom/DSGPT', 'iLoveDataJjia/sparkaiku', 'RandomRedBeard/dockerdemop', 'zwiktor/OCR_App', 'Friskes/detect_completed_forms', 'dlwaterloo/web_scrape_test', 'landoledesma/QAgen_chat', 'spikeninja/unicap-test-backend', 'joeypinto/backend', 'apolo-17/curso-python-pip', 'Juancho207/React-FastApi', 'oreshkink/budget', 'Ankuraxz/insurance-ai-backend', 'victorlga/lightweight_baby', 'AbhijithNidanakavi/TruthSeeker', 'David-Lazaro-Fernandez/ImageClassifier', 'abi/screenshot-to-code', 'agebrese/voy-amie', 'pallav31sharma/Google-Trends-Agent', 'Sharrnah/LLM-API', 'imagination901/nighttime_temperature_api', 'simonZES6/webscraper', 'shmicer/test_fastapi_forms', 'ianmande/message-fast-api', 'eviccari/schema-service', 'Alonso-Dominguez/api_rest_contactos', '2anki/base-image-n2a.DEPRECATED', 'raushanraja/fastapi-hello-world', 'jm-wk/ubi-manifest-second', 'jakashcode/Text-Summarizer-NLP', 'chineidu/info-extraction', 'Solude-evidence-informed-health/API-Pharmawatch', 'egrytsenko/latam-challenge', 'AmairaniMartinezM/api_heroku', 'YelaniaCarolina/MIAD_Despliegue_S6_Entrega_1', 'EvilRiser/Cohort', 'Caanar/despliegue-docker', 'deveshXm/NeoWay', 'JLTorresA/LUIS', 'AmairaniMartinezM/frontend-', 'nreyesb/libraries', 'thiesac/restaurant-orders', 'BrianMuthuure/learnerhub', 'Tanner90909/fast-api-auth-demo', 'vedantroy/vllm', 'bugsssssss/fastapi-task', 'mariusvilholm/langflow', 'jlpboss/fast-fm-project', 'AKunshin/FastAPI-TinyDB_GetForm', 'PoovendhanNandhu/WritersAI', 'krkmzugur/fastapi-blogUser', 'BERTPSYO/Loan_API_ML_Project', 'stmatveyy/mia_bot', 'emelpolaris/frontend_fast', 'HeetVekariya/Innoquine', 'harishsiravuri/litgraph', 'muskankhare/ICC_World_Cup_2023_Prediction-T12', 'VictosVertex/flatland-asp', 'DmitryGitHab/fast_api_engin_calculator', 'hgovan/edgar_companyconcept', 'cepefernando/llm-starter-pack', 'alecordev/fastapi-template-2023', 'JorgeEduardo17/real_state_company', 'Kaya-git/LeadHitTest', 'dp2292/CP03-Data-Alchemists', 'nayanagrawall/FastAPI', 'noumanirshad/Food_Refresment_Chatbot', 'arashparnia/MAGICAL-Academy-API', 'jubaerhosain/potato-disease-classification', 'Chido100/ecom-fastapi', 'codeanish/test-fastapi-security', 'DiegoGarciaM1/Semana6', 'takuro1026/fastapi-template', 'carlosrafaeldf/recomendacoes', 'colord/custom-stable-diffusion', 'Sagargupta16/nextjs-fastapi-starter', 'nogibjj/mini-proj2-rc', 'EOEPCA/um-identity-api', 'mezamateoj/fastapi-aws', 'lkraj/ui', 'weijay0804/side_project_share', 'AstridXiomara/API', 'charbelelhage/ds_midterm', 'johanpina/testing_class', 'bibliomar/bibliomar-scrapper', 'nik-erofeev/fast_api_primer_orm', 'thepmsquare/square_database', 'se4ai2324-uniba/CropSegmentation', 'emelpolaris/fastapi', 'KrzysztofPempera/python-product-app', 'hmyng/inest-backend', 'Bongo-George/Text-Summarizer-Project', 'mirabots/webhook-forwarder-telegram-bot', 'dekel1145-public/ABAC-sys', 'mristeli/fast-api-db', 'tresphill/fast-fm', 'aro0176/demo-fastapi', 'pallav31sharma/FastApiTest', 'beiwis/bending-machine', 'flowentiweb/backend_statistiche', 'CTRL-C-AND-CTRL-V/2CloudPreInterview_ZhenGu', 'danielcgiraldo/crawler', '1mk0v/Completed-Form-Identifier', 'Tate5000/Otter-STIG-tool', 'RWallan/send-email-reactpy', 'MadGod29/SIH-Ayurleaf', 'techman0256/Data_Mining_CP3', 'jmendoza1705/Taller7', 'shub-rai/webapp', 'alpha-toro/spam-titan-free', 'lLucesel/back-up', 'Tetka3/render', 'yamkant/what2do', 'Wyatt002/Camp-Scout', 'Ishsshukla/workshala_ml_1', 'Sabahat-Sami/Webucation', 'menkesu/vasculargpt', 'IT4043E-IT5384-2023/IT4043E_Group6_Problem2', 'thinktecture-labs/2023-11-webinar-semantic-search', 'sumitsahoo/ChartGen', 'digitalservicebund/erica', 'sasano8/kvspec', 'SpikeVN/phoenixdiscord', 'AlexandrPlatonov199/Forms', 'p8daniel/sample-api-people-network', 'DaveCBeck/Backend', 'nogibjj/mini-proj1-rc', 'Sunjung-Dev/fastAPI', 'magelick/Blog', 'vercel-support/vercel-fastapi', 'teu777/xfapi', 'lolmx/py-tec-test', 'Sagargupta16/TaskProject1', 'ilyamyakishevv/leadhit_test', 'helderalvesoliveira/PrivateGPT-app', 'Clear-Love/lawGPT', 'brain-facens/brain-microservice', 'ljaun/hack-night-bern', 'ericmiguel/missil', 'ONSdigital/eq-runner-mock-cir', 'Tetka3/commerce', 'Shreyapal27/Text_Summarizer_Project', 'kotbarbarossa/SocialLink-Report-Generator', 'GustavoGarciaPereira/fastAPI_with_nginx', 'DineshChopra/GEN-AI', 'gitnassima20/PyMicroservices', 'Husssar/namnsdagar', 'johncoogan53/Databricks_ETL', 'JeissonArcadio778/art_gallery_api', 'GirardiMatheus/Raiden', 'lurah11/simple-nlp', 'Abdulsalam-Aderoju/To-Do-List-App', 'fu7ur3gh057/fast-admin', 'FjodorvRijsselberg/PID-resolution-monitor', 'tusscrum/online_books_search', 'Eng-HanifLeghari/fastapi_ecommerce', 'ramonpzg/architecting-dashboards', 'bmikaili/captains-log', 'FAV1290/fastapi_weather_forecast', 'ivancley/fastapi', 'rohithgoli/lib-ms', 'Joelder-Victor/embarcados', 'arcy405/heart_random_forest', 'shogogoto/knowde', 'Novel1/home_3', 'choosewhatulike/trainable-agents', 'virgiliofornazin/pagarme-api-readonly-bridge', 'uokansk/pythonProject10', 'sribalaji02/intelliresume', 'DOUIF/thsr-tracker-backend', 'Mechuleeare/Mechuleeare-FastAPI', 'Tapasswin/Text-Summarization', 'hrouhizadeh/BioWiC', 'kady70/doc1-gen-docker-container', 'SzilvasiPeter/fastapi-kubernetes-minikube', 'parveen4646/chat_with_table', 'ddszorro/fastapi-example', 'bjpietrzak/short_and_sweet', 'd2n0s4ur/MO4E-devkor', 'ChakreshIITGN/MLOps_python_func', 'sethgis/final_wetland_aoi', 'hugomes1415/example-fastapi', 'barishandcloud/vbox-kubesprayed-cluster', 'efrog-team/efrog-telegram-bot', 'daecgu/BackEnd_Cantemus', 'basitng/tts-comparison', 'AlexandrPlatonov199/Filled-Form', 'KBegijanov/Translator', 'EskinderAbera/SocialApp', 'selimozten/AIComicApp', 'Zhornovyi/rexit_test_task', 'rio1412/text11', 'wcx2333/chat-model', 'ObelusFamily/Anythink-Market-0iy1nrvb', 'amirwolf5122/deta-terminal', 'millerpuentes/Semana_6_1', 'vastashh/app', 'PintoAaron/dummy_api', 'cassio645/fast_zero', 'Thananchai-Inang/server-demo', 'macula-projects/macula-chat', 'iamdkcoder/CricGPT', 'azmd801/back_order_prediction_end2end', 'shuther/litellm', 'Nagendra3389/first_app', 'ayush0823/IT496_Fab_Five', 'lightsspeed/Docker', 'ckp-harmonyconnect/forgefy-backend', 'simondtaylor/todopythonmongo85db', 'AdityaSrikarChas-582/Trust-Fund-Management-System', 'spartan-minhbui/chatbot-with-langchain', 'engrotech/artemis', 'therohanchoudhary/Financial-Literacy-Bot', 'Mickmacha/Blockchaincerts_FatApi', 'locorico25/pycaret-example-ts-sl', 'V-Dinesh-Karthik/Sentiment-Analysis-of-Youtube-Comments', 'leviethung2103/ads-ocr', 'rkg1007/fastapi-lms', 'muhammadhazwan/python-api-example', 'planet-lodder/taskserver.py', 'duongngyn0510/distributed-server-monitoring', 'theSuriya/app', 'Piwero/template-microsvc-fastapi', 'cockroach2023/backend', 'Kraftat/langflow', 'aki0919uc/render_test', 'phenikaaphuoc/test_fastapi', 'WARC-Digital/warcsite-server', 'nikhilkomakula/ml-nlp-do-sentiment-analysis', 'sonpython/HouseGPT', 'a289459798/langchain2api', 'KatarzynaSzmydki/Loan_Request_Verification', 'P7Ninja/APIGateway', 'Sa1864225/todo-backend', 'kingbasine/mortal', 'ariprachmaan/CreditScore', 'MarioJChanZurita/aws-project', 'AndreyKusko/experiments', 'JazimMD/GTA-Sandshores', 'Dheeraj8601/Potato-disease-Classification', 'PRANJALRANA11/BlockPay', 'beminder/BeautyMinder', 'GiziSight/model-api', '18221056/Tugas-TST', 'miguelangelorebelo/Challenge', 'ekellbuch/longtail_ensembles', 'groupsteph/gitops-bara-api', 'plowside/e-voting', 'RHEcosystemAppEng/ocp-lightspeed-embaddings', 'srikanthpailla/brite_test_api', 'Amul-Thantharate/Python-Docker-Fast-Api', 'Solution-Bridge-Projects/kubereport', 'tranphuocloc070699/squirrel-py-server', 'NikhilJeikar/Development-Server', 'z00b/flask-demo', 'KrivovDE/TaskServerFastAPI', 'detouche/detouche_autumn2023-2024', 'goldcupco/fastapi-postgres-template', 'abhinand5/tamil-llama', 'xavierkoo/project-SBRPg8t6', 'juanesquintero/books-advisor', 'MehmetDem110/FastAPI', 'thebadsektor/flixr-exercise', 'BrianMuthuure/socialAPI', 'ashank2603/waterdipai-backend-task', 'Vaniog/blokadamap', 'linhmiyano99/assistant-tool', 'Usgupta/capstone', 'openobserve/hotcommerce', 'Garenbbbb/Distributed-FaaS-platform', 'alibalapour/Image-Classification-Template', 'DooDooPark/fastapi_practice', 'aminmola/ETL-sample', 'DaitaMonk/Sepsis_Prediction_API', 'Funda-Arquitectura-Software-Go2Climb/MicroServices-FastApi', 'lyaguxafrog/mtuciLabs', 'sklein84/streetcar-delay', 'augustine0890/meta-backend', 'Ankan54/RadiantRanger-CanaraHackathon', 'VIRTUOSO-DPS/CSM-Scenario-FindFaces', 'spatia-list/spatialist-backend', 'FrancescoStupar/rfa', 'OneDollarMan/dashboard-test', 'AbhishekPawaskar/cluster-engine', 'Laura-Mora/Back-PEZ', 'naveenbmce/InstaTeleBot', 'vladuxa23/clip-interrogator', 'sopra-steria-norge/kafka-demo', 'Sizeoff/cat_charity_fund', 'prasu074/temp_repo', 'vladuxa23/ipapi', 'isayildirim/announcement', 'karinarahadiani/prediksi-properti-railway', 'PyMarcus/SecureGate', 'biomlds/mlzoomcamp_mitdterm_project_2023', 'MRaahulVignesh/QuickScore', 'NewWays-TechForImpactKAIST/backend-python', 'jsonjuri/GitChatGPT', 'webclinic017/MoneyTree-1', 'corfa/course-work', 'wangr0031/fastapi-mysql-1', 'nutsang/HelpUbon', 'clemux/fastapi-demo', 'CouncilDataProject/cdp-transcription', 'r2r2/strana_backend', 'MarkNwilliam/rocketbusiness', 'nogibjj/Alicia_miniproject11', 'akai-org/love_letter', 'Rognak/FastAPU-google-auth', 'Mesheswarage/Cement-Floor-Tear-Detection', 'nogibjj/levia_pyspark_week10', 'hemantranvir/db_explorer', 'Iptvharry/vavoo-parser', 'NeumTry/NeumAI', 'vladuxa23/text-interrogator', 'OpenAI-All-Stars/executor', 'DanilVolodchenko/FastAPI_project', 'helenaohlsen/property-ctrl', 'UniD3-Hackathon-Team4/barokey-dummy', 'songmoana3/image-search-server', 'Sizeoff/QRkot_spreadsheets', 'Gigamakhijo/StunningServer', 'sant1ag0x00/StockWatchlist', 'anhtuanbkfet/IdentityAPI', 'luke-redwine-sudo/GNSS-Reflectometry-Service', 'idipankan/fastapi-demo', 'OliverXUZY/few_shot_image', 'EstebanVini/Kokua-Admin-backend', 'Lettrt/WevApp-Form', 'zhoudaquan/ChatAnything', 'skkuse-team6/StudyingX-Server', 'DaXemi/DevOps_Project', 'sc-ahn/hmac-playground', 'finger-guns/VisoryChallenge', 'NSOPORTEDESARROLLO/titos', 'glide-the/RVC-Speakers', 'eraldss1/tableau-connected-app-example', 'PooriaT/Resumivise', 'janduplessis883/kaggle-ai-text', 'elkindavid/Docker', 'evexuxi/KBQA-System', 'louislim899899/pl-erp-split-pdf', 'ayyaya21/BUDGET_BUDJAI', 'm-iqbal-shiddiq/puska_api', 'JeromyJSmith/OpenBBTerminal', 'minkimNV/EEGproject', 'saumya-jain14/meal_prep', 'CJRockball/basic_login', 'ji5485/2023-software-engineering', 'edderleonardo/CrudFastAPI', 'nguyencong1227/T5_Summarize', 'nogibjj/Individual_Project_3_Yabei', 'MrDrHax/fast-automata', 'wilsonhh23/testt', 'mauudev/fastapi-notebooks', 'echoix/megalinter', 'BenFloresMX/FastAPI-Course', 'AaryaDesai1/aad64_Individual_Project_3', 'jhunufernandes/k8s-basics', 'dianavillalba/DSA62', 'lexxai/goit_python_web_hw_12', 'hbourgeot/sazon-aurora-back', 'dstilesr/flashy-card', 'madiscercy/art-alchemy-images-lambda', 'bsaranga/ml-ai-journey', 'run-llama/LlamaIndexTS', 'ivanlafollette/python_ms_codespace', 'Navnica/pharmacy-ent', 'openchatai/OpenCopilot', 'yury-yury/test_task_from_e_Kom', 'ArtyomCZ/search', 'Okwybobby/fastapi_cclcb', 'rymyung/fastapi_tutorial', 'Keonnartey/databricks_project', 'edilson-silva/gpt-assistant', 'hwilloug/raincloud', 'luchini77/control-ingreso-api', 'CarlosSaSa/entrevista-trabajo', 'afvalenciacas/Taller-Docker-AWS', 'euiyounghwang/python-assignment', 'yang-wang11/llm-cookbook', 'whitesj1030/fullstack-gpt', 'mounishkp/CS554', 'nik-erofeev/FastApi_example', 'V-Moskalenko/fastapi_examples', 'garibaldiviolin-org/fastapi-couchdb-app', 'Git-688/C01', 'egorgam/fango', 'lari-sann/api-pycine', 'fredeos/CE1103-Proyecto3_CarpoolingServer_', 'saohwan/fastapi-celery-project', 'FabricioFloriano/Restaurant-Orders', 'appfolio/datahub', 'appfolio/langchain', 'finger-guns/whereisit', 'Juanjomarg/Proyecto-IA-2023', 'unrealspeech/youtube-transcript-to-audio', 'panthervis/commune-test', 'cbayonao/cdk_aws', 'Guilherme-C-Ferrari/Batalha-Naval-A3-SDM', 'audarcy/godeliv-menu-recommendation', 'nuclearthinking/unspoken', 'dianavillalba/DSA61', 'DebdasPaul/hello-api', 'gxldCptRick/number-guessing-game', 'alperencubuk/url-shortener', 'lmecenas/API-workshop', 'bAlemar/Combinatorial-Purged-Cross-Validation', 'afvalenciacas/Taller-Docker', 'DanielBrisch/python-postgres-docker', 'Jpneira2000/curso_python_pip', 'Erwin-DS/DSA_Docker', 'segurao/Guia6', 'jfaponte403/Father-Class', 'VincentWinarta/tubes-tst', 'marcus817/ed_api', 'mezni/work02', 'peterbull/bodhi-cast', 'SoloBakvet/Pokedex', 'johnding1996/Watermark-Experiments', 'nogibjj/Individual_Project3_LinHui', 'DJRT-11/MINE4101-T3', 'manny-uncharted/Azira', 'SaiSpr/Article-Classifier', 'reariast128/platzi_fakeapi_requests', 'arvaibhav/learn-fastAPI-user-service', 'Alex-S-H-P/open-tabletop', 'Strangemother/python-puddles', 'ReyLegar/text-tone-nltk-', 'pedrosantb/gloria_twilio', 'oapatinop/DSASem6-Docker', 'AdaBuenosAires/training_plat', 'LeeLee-00/ADS-B-REST-API-APP', 'trungnt13/rag-backend', 'BilyanaRumenova/WebCrawlingApp', 'birg81/teachingCodeRepo', 'nogibjj/706_Project3_YL', 'karelvlk/RealEstateViewer', 'dsdbagui/API-Workshop', 'ccastri/litis-va', 'imMoya/opendeclaro', 'geniusun/AutonomousAdam', 'nogibjj/Yuwen-IDS706-miniproject11', 'davidspader/lease-builder', 'ciCciC/news-article-vector-search', 'severian42/liteLLM-proxy', 'Kir-1/SteamMarketTools', 'abdullaharshadd/admin_dashboard_api-Forsit-', 'kevinbtalbert/CML_AMP_CPU-ONLY-MISTRAL7B-CHATBOT', 'paradigmxyz/paradigm-ctf-infrastructure', 'eforce67/NeoCrab', 'VLittleMonster/rsoi-lab2', 'garrijuan/app-python-githubactions', 'nogibjj/IDS706_w11_DatabricksETL_Individual_hzx', 'AD-SDL/kla_module', 'Danielmtv1/millionandup', 'marvinbraga/langchain_restaurante', 'EKibet/FastAPI_EKS_Kubernetes-', 'jenna-theresa01/fast-fm-project', 'vanolucas/vscode-python-stuff', 'cseelye/custom-python', 'lvgalvao/crud-fastapi-postgres-streamlit', 'mababio/Tesla-Location-Services', 'stefanuddenberg/fastapi-jspsych-experiment-template-public', 'PifDaReal/direct-project-management-project', 'Danielact/taller_s6_dct_act2', 'Coding-Crashkurse/FastAPI-API-Testing', 'JayXD-2K/timer-api', 'amanda-aragao/project-restaurant-orders', '999suntin/freqtrade', 'pluralsh/plrl-cd-demo', 'kongruige/2023BioxAIHackathon', 'devopsengineer-24/jenkins_exam_devops_2023', 'carissarianda/PemesananMealKit', 'Ultraman82/auto_scheduler', 'TFMV/veloce', 'FundingCircle/datahub', 'Grinders/EmbeddingsAPI', 'Rochu990/PythonPractice', 'auvarifqi/tst-auth', 'DevDaysFall2023-31/project', 'gabriel-vr/transcriber-api', 'WolfMTK/task_services', 'WilliamSilveiraF/sentiment-analysis', 'Anemosx/aurora', 'xorsuyash/LUMOS', 'getshippy/fullstack-challenge', 'oncarrozaqy/TST-Customized-Request-Clothing', 'miguelp1986/linkedin-profile-scraper', 'leroyshirto/gpt-playground', 'leonardosantosb/Restaurant-Orders', 'pal-lavie/url-shortener', 'JoseArQ/movies-fastapi', 'iramluism/ddd-python-architecture', 'IgorKolotushkin/spend_duty', 'OnchainBlock/API_DataOnchain', 'prabhav11400/ML-DL-Projects-and-Model-Creation-exercises-from-Scratch', 'yhutter-dv/fhgr-cp2-astra-dashboard', 'AraujoDavies/telegram-affiliates', 'wmaucla/mlops-kubernetes', 'caio-cacador/shawandpartners', 'kenil0811/langflow-railway', 'nogibjj/Haochong-Individual-3', 'Bzsmrf/sovits', 'pprporrr/backendPawsprom', 'Atlas986/Approver_backend', 'gmartindelcye/fsa-rabac', 'MicaCarballo/demo-assistant-fs', 'jdhruv1503/col106-a7-api', 'michaelkosir/distroless', 'ThanaphomH/AIMET-backend', 'Arteyss/FastAPI_project', 'nogibjj/Sjg80-MP11-Data_pipeline_using_Databricks', 'asif-mahmud-am/Medical-LLM', 'EduardoMM17/simplicar-assistant', 'nogibjj/ids706_project11_ll442', 'vercel-support/139395-devchat-webapp', 'aleksandr-dzhumurat/python_redirect_service', 'Keisuke-Yoshinaga/learning-project', 'Hurhaj/AuthenticationMicroserviceMoveApp', 'DTRKN/FastAPI_Hotel', 'alexey3nemckovich/alexnet_model', 'brivazz/ugc_sprint_2', 'ObelusFamily/Anythink-Market-kkwgjhhg', 'sobinessh/fullstack-chat-main', 'timmypelumy/whispR-server', 'mhmdsami/todo-with-ner', 'elmanoveu/microservise_playground', 'avashraj/subai', 'nogibjj/PySparkStats_YCLiu', 'NewBizLabs/archie-aid', 'Heattehnik/form_validation', 'Ilian445/dd.forms', 'ggoni/basic-reflex-pdf-chat', 'HyggeHalcyon/CTFs', 'DanielNobbe/denoise', 'BarbedRuff/course-project', 'Braun-Alex/pet-adoption', 'BesrourMS/fastapi', 'EnxrgicS/ue19_labo09-10', 'YanikaD/Docker-AI-ML-Hackathon-2023', 'yorbenwij/API_project', 'kreha1/poetry-test', 'realbrodiwhite/AutoAgents', 'subrat00000/aws', 'yeti-platform/yeti', 'Sanjar-Berdikojoev/BinanceV2', 'myles4321/sentiyoruba', 'JuanIIDX/CyberBasket', 'luizweb/API-stateofdata', 'stevedzakpasu/Hackathon-UniStudyHub', 'hdmeyer/mlops-aks', 'EugeneDar/linky', 'mc5312/YahooFinanceAPI', 'osawa-koki/websocket-with-fastapi', 'kanjanaengsrc/HelpUbon', 'EustaceMoran/PyProject', 'NikitaDyachenko/natsenka22', 'leozimac/fast-news', 'gohei-jp/ym', 'MicaCarballo/chatbot', 'ras5014/Amazon-GPT-Search', 'siberianbearofficial/marking', 'ObelusFamily/Anythink-Market-73ms4e4g', 'KeylaDalseco/project-restaurant-orders', 'nogibjj/NasdaqClosingCross', 'Ben-Horner-QS/copilot-training', 'amda-phd/be_coworking_api', 'sgjurano/aaa-async-2023', 'VeganSlimJim/SeniorProject', 'madhav1999/dqa_chatbot', 'chijao-foo/tester', 'breakInIf/storyteller.ai', 'arv-anshul/ecommerce-scrapper-api', 'nogibjj/tinayiluo_mini_11', 'futurum-dev/futurum.dataexplorer', 'hwchase17/testing-hosted-langserve', 'Berna-RV/SIEM_Project', 'bwithai/ai_meta-mart', 'dstoecklein/sqe_app', 'Kadu-da-Silva/restaurant-orders', 'Fiklik/fast_api_course', 'petterle-endeavors/openapi-retriever', 'JohanMeCe/Despliegue_con_contenedores_nube_JAMC', 'Danielact/taller_s6_dct', 'lucashs94/API_data_project_WSLVG', 'convutell-data/convutell', 'AlessandroPesare/deep_learning_projects', 'anhuar130204/heroku_back', 'maciekst/pyredisdock', 'BbqGamer/building-plot-search', 'dodaucy/diary', 'Rubikoid/yggdrasil-map-ng', 'BigSamu/Macaroons_Demo', 'k3ith99/chatbot', 'Blastz13/oidc-service', 'SujitDalai/Video_Steganography', 'ijaric/voice_assistant', 'VishaLPatiL9029/Sensor_Fault_Detection', 'PenguinCodeTeam/krasnodar-back', 'so1ez/fastapi-get-form', 'ObelusFamily/Anythink-Market-ln8un2wq', 'pinkishsabito/money_tor', 'Cithoreal/AISchedule', 'electrojam/curso-python-pip', 'Neurotech-HQ/sarufi-africastalking-ussd-blueprint', 'AlexisMunera98/drive-bot-nlp', 'indigo-paas/federation-registry', 'DropbaseHQ/dropbase', 'sebastiantq-protonmail/blockchain', 'AnyashaTk/Recomendations-project', 'kevinZG-dev/mars-rovers-app', 'rippertonalex/voiceflow_test', 'all-in-aigc/gpts-works', 'nixondeflin/18221150_DietProgramMicroservice', 'Randsw/smena-devops-task', 'graciatb/RecipeIt', 'afoley587/hosting-yolo-fastapi', 'DylanWDev/fastapi-auth-sandbox', 'etovityusha/stock_price_subscribe', 'BayronDavid/JP2-Viewer-Server', 'diegofaco/Promptin', 'JairVaz13/heroku_Front-back', 'Rafay183/chatgptfree', 'DartCF/respire', 'vanessadickey/fast-fm2', 'Michellopez16/CalculadoraMicro', 'Cream-Crusher/RabbitMQ_Communicator', 'M-Arthur-A/analysys-services', 'eminb61/RL-UAM-Framework-290I', 'TrinhTrungDung/omnihr', 'ristiriantoadi/sastra-minggu-be', 'PengfeiMiao/smart-qa', 'aaliagab/fastapi-docker', 'smoke-m/fastapi_training', 'benito-camarillo/PrivateGPT', 'PixelPioneersDAO/Employee-Health-ML', 'AndieRowell/fastapi-auth-demo', 'humancoder1/Course-Intern_Recommendation_Model', 'jenna-theresa01/fastapi-auth-demo', 'coachhallsomeinc/fastapi-auth-demo', 'vanessadickey/fast-fm', 'Tanner90909/learning-auth-demo', 'SamPink/jobs-gpt-v2', 'JChengGit/SpruceSite', '4madeuz/ClickHouseTestTask', 'Pedro2080/JP_API', 'nailus/fastapi', 'agun36/blogs_site', 'wymangr/blueiris_alerts', 'openshift/lightspeed-service', 'AmairaniMartinezM/api', 'valhugnat1/rag-connect', 'HelinaBerhane/Goals', 'romildodcm/aeroquiz', 'luber2000/xbloxk-backend', 'hemingway33/TransFlow', 'darshanmakwana412/Data-Compression', 'HeidiProject/image-server', 'google-marketing-solutions/description_genius', 'guostonline/dashboard_fdv', 'Deleitte/AI_2022_2023', 'NartikoevNicholas/PetChat', 'AlmiriQ/Hackaton', 'openfoodfacts/taxonomy-editor', 'Ljulienng/kayrros_test', 'MhmoudGit/WhatsApp-bot', 'michaelsht/MariLearnTST', 'Msameim181/AI-Chat-Bot-IFSGuide', 'AntonAks/FastApi-Celery-Flower', 'DEFCONPRO/gradio', 'efreder6/Assignment5', 'renubaskar/k8s-project', 'Joeyloganpython/VUDS_FastAPI', 'sumitkasle/text-summarizer-project', 'HubCart-Ai/sd-webui', 'shagunbansal/text-embeddings-model', 'kseniavoitko/LearnFastAPI', 'danieltwh/MedWatch', 'DanielTabares1/fastapi_docker_example', 'Yar59/technical-task-generator', 'kliment2000/dashboard', 'siberianbearofficial/tradeoverseer', 'markqiu/prinvestgpt', 'artmoskvin/openai-playground', 'Bilguun2432/inventory-system-back', 'vtrsg/car-dealership', 'DatacationOrg/datacademy-package', 'wanglingx/python-api-kubectl', 'GOK-656/learning2rank', 'zakrzaq/jk-memento-be', 'kkorolev1/ss_dla', 'lumi-ua/goit-web-homework-12', 'Xue21/CableBendRadius', 'vvuylsteker-life/qrcode_generator', 'ismagkar/Auth_sprint_2', 'giraycoskun/f1-board', '12355545/projet', 'Seminario-Integrador-Grupo-63/Proyecto_Seminario_Back', 'tkrshv/yourshortener', 'Wanhack/Seg-Fault', 'doszuscik/PrivateGPT-webapp', 'Waesz/Projet_3', 'JoelSoleCasale/OptiFlowInnovators', 'Informhunter/junction2023', 'VasilyGorbunov/fastapi-pizza', 'orionmike/fastapi_auth', 'khengyun/scholar-pcrawler', 'furyhawk/llama2', 'ashurkina/langflow', 'nuftillayevjavohir/test_bot', 'ObelusFamily/Anythink-Market-2vv2p54i', 'JudahRobBer/Colere_backend', 'nazlicanto/surviving_titanic_docker', 'emakeiv/inference_api', 'GabrielMajeri/smarthack-2023', 'RaulBurrieza/ApiAvanzada', 'RAIL-IMPACT-PROJECTS/py_to_tf', 'BirgerMoell/gpts', 'Norgan97/fastapi_test', 'ChamboxCom/functions-from-zero', 'loknara/HackUTDSF', 'Cashaqu/docker', 'Iammilansoni/Chatbot-', 'BogdanSizonenko/test_mongo_fastapi', 'tomo-cps/Hack-ML', 'ardhanidzaky/thesis-ortho-proto', 'Bubinda/projects', 'Smart-Hack-SegFault/backend', 'ferhsu/EmpowerHer', 'DDaniel-7/tst_nutrieats', 'LukasBahrenberg/api-test', 'kotae4/learn-k8s-apiserver', 'AlfrescoLabs/GenAI-Experiments', 'Kkkasum/Trading-App', 'Mizzi02/MS-game_rec-002', 'Birdsarenotreal/QuizApp', 'codermery/Python-Task', 'Pradyunprogrammer/admission-netlify', 'vignxs/ThreeFacts', 'srdnlen/srdnlenctf-2023_public', 'gringrape/coding-life', 'nxquang-al/vi-atiso', 'lebinh190998/gpt-chatbot', 'theperiperi/reading-data-from-pdfs', 'snad-space/model-fit-api', 'xiaoyumu/ChatGLM3', 'Jverbist/Gotcha_project', 'lucalush69/GenMusic', 'MatsCouwenberg/API_dev_1', 'alexvilno/fast_api_hw', 'andrewkc/db2-project3', 'PosePals/PosePals', 'p0pl3/5sem_ipp', 'karamih/microservice_fastapi_ocr', 'Silvennnn/CS520-PatientPortal', 'respectedbastard/MapReduce', 'pixano/pixano', 'FStettler/chromedriver', 'tothelimbo/lct_2023', 'osawa-koki/cognito-on-browser', 'rocketbot-cl/CubeExcel', 'andrewyazura/telegram-bot-api-async-webhooks-test', 'johnjg12/python-skeleton-app', 'Machknow/musheer_prototype', 'Calmcat1/Api-test-vercel-deployment', 'CalmCells/ASG_Bot', 'helsoc7/benutzerregistrierung', 'devopsengineer-24/jenkins_datascientest_exam', 'KAN-JUNHO/documnet-fastapi', 'Raccoonrocket/AutoCatalog', 'apollo812/oridosai-txt2img', 'Ammar-Abdelhady-ai/Human-Emotions-Dataset', 'apollo812/docker-fastapi-projects-nginx', 'Kienroro2003/FASTAPI', 'izzaldin83/03_06_solution_develop_a_container_image_pipeline', 'luispandolfi/DeepLearning2023_TP2_Gr1', 'Stevenpach10/ML', 'Sesanyane/snt-odoo', 'osawa-koki/lambda-with-mangum-fastapi', 'FathullaLatipov/Social_media_44', 'esemi/dreams-api', 'LimpyLimbs/microservicescourse', 'gmvillaran/autoqa', 'Roman-212/ds_planner2023-CP', 'KonstantinLjapin/FastAPI_stud', 'ObelusFamily/Anythink-Market-t7ak099o', 'ai-dev/ollama', 'DH-Riva/FormValidator', 'TMaksimS/LeadHit_case', 'mavinomichael/social-app-fastapi', 'YoussefMhasni/ML_Project', 'alex3627/school_html', 'Skyonelu/mycms', 'cyoq/oracle-geometry-viewer', 'anagilrod/students_exam_scores', 'adebola-duf/P2P-transfers-or-cloud-services', 'pudding483/Backend', 'eestremera91/Python_courses', 'foscraft/fastLLMs-api', 'engncnyldz/kap-notifications', 'gparpinelli/fastapi-backend', 'janheindejong/weather-data', 'droidnoob/rag-fast-api', 'rauland/FastAPI', 'Vlad29012003/my_first_fastapi_app', 'ai-dev/continue', 'abtsousa/SimpleREST', 'Munirmohammed/duri_', 'Gengsu07/learnfastapi', 'Lavyatarah/pizza_project', 'QuantumSpinozist/AirbnbBerlin', 'Bilal-Gujjar/fastapi', 'NeethuVenugopal/AIQ-challenge2', 'ShaneTsui/snap-report', 'KykeStack/py-soup-preview-url', 'Palandr123/ML-project', 'WEB-TeamProject-Group-4/job-match', 'Y4jRecommender/TTS', 'BogdanOdilov/cat_charity_fund', 'giosava94/catalog-api', 'Deszher/streamlit_mlproject', 'muKaustav/vidyoai_ffmpeg', 'MikeIV2007/Python-web-hw12', 'EmiRoberti77/langchain_local_openai', 'Exolt/image-resizer', 'jasonk19/react-fastapi', 'Arzhchil/object-detect', '0xDebabrata/ai-assignment-11', 'SergoSolo/QRkot_spreadsheets', 'dathx/store-management', 'konohazukux/fxChart', 'yongga-radit/mini_project_03112023', 'ra-coder/datavagon-hack-2023', 'inab/licenses-mapping', 'nathonNot/myswap', 'danielhangan/sixpoint-test', 'CaffeineCrew/EmailServer', 'kvqn/song-recognition', 'Bogdan-Malina/t3_fastApi', 'jmjaimesmendoza/TAG', 'MChrys/yubo_test', 'ivanmaterov/course-tracker', 'khaledadarani/dummy_fastapi_app', 'YoussefMhasni/ML_PJ', 'cikay/async_tutorial', 'sithuAOAI/LLM-Powered-Bot', 'denchic45/detect_weapons_ai', 'rizkydarmadi/DockerTestBuild', 'HackUMass-scheduler/backend', 'mzinzun/fastapi_postgres', 'ashiq24/Scale_Equivarinat_Fourier_Layer', 'Aqua-Lively/college-porfolio-backend', 'deanx/advisory-gpt', 'emazaheri/ScientiMind_Cohere_Coral_Hackathon', '5Evo/lesson_11_pro', 'taraharyono/Tugas-Besar-TST', 'JakubPluta/gymhero', 'Tanishq2003be/Diet-Management', 'nourhenehanana/facebook_scraping_service', 'fastapi-practices/fastapi-chatgpt', 'yogeshvaral/FastAPI_V3_Oct23', 'pyrox0/creatorpay', '7801adith/Flipkart-Clone-Backend', 'HarithJ/docker-demo', 'AlexanderK011/prak_FastAPI', 'sarwenda110/wappahj', 'MedBENZARTI/server1', 'giraycoskun/music-library', 'moritys/cat_charity_fund', 'Medusix/OCRProject7', 'salahroud/candidate_manager_task', 'sorrynthx/nomadcorders_gpt', 'anddimario/myArchitecture', 'virajsazzala/saido', 'kravcov7/hackathon', 'rklra/roadside_backend', 'AlgoETS/Salary', 'Volodymyr-Hokh/goit-web-hw-12', 'felly991/weapon_detection', 'yajatvishwak/judgy-cli', 'chuck1z/cobajwt', 'kasbah/AIUI', 'kingcollins17/quiz-backend', '1000jinah/fastapi', 'VishalInfoCoder/chatBot', 'aspatari/hackaton-backend', 'danielu20101/Le-Laf_Hackathon_2023', 'Datremar/Shop', 'ngocthien2306/audio-cls-app', 'Kabilan108/OmicsCopilot', 'skillbakery/cdcontainerimage', 'auchukornPurse/host-api-', 'nogibjj/IDS706-Databricks-Pipeline-YuhanXue', 'shoxruhbekdev1998/Nothing_Fast_api', 'pwr-TeamProject23/M2', 'cuiyuanS/worker_flow', 'Datbe2001/core_fastapi', 'SEN1221TUD/Q2_2023', 'farazjawedd/week11_fj49_databricks', 'TRUEVORO/fastapi-tdd-docker', 'shakeebparwez/medi-extract', 'JahanavDixit/Web-Scraping', 'kravcov7/hack', 'mindful-college/stress-detector-backend', 'anhduy1202/CPSC449-Project3', 'KI-DG/NewNews', 'mles-02/diffusion-optimize', 'kazu-yamy/resortech', 'berrygin/fstapi', 'vikrant101001/evva_aiadvocate_fastapi', 'huitingloke/torts-chatbot', 'JyotiPrakashJena/Samohini', 'gidadhublis/Text-Summarizer-Project', 'Chawaika/Assignment1-Part1', 'IvanTimiryazev/top_100_clickhouse', 'EIvan21/EAProject', 'Dhravya/snapshop-backend', 'warnaz/test_main', 'Olim2508/fastapi-pdp-websockets', 'numebot/landing', 'JACOB152/AIUI', 'Riktor997/SeaAnimal_procrssing_PredictImg', 'kk-sg/stock-analysis', 'lengyc-Code/FastAPI', 'lengyc-Code/RailwayFastAPITest', 'progech/youtube-to-mp3-api', 'apostolos-geyer/fast-backend', 'abhi8893/social_media_fastapi_tutorial', 'Latticeworks1/weathertemplate', 'ArseniyZh/SE-test-task', 'Implex-ltd/AiSolver', 'sonesonjabgo/FITTER', 'PALLAVIKHEDLE/keyword-krawler', 'KrishnaPrasad36/text-summarization', 'dhoyoso/taller_contenedores', 'smasis001/Music-GenAI-App', 'quantum73/async-python-sprint-5', 'vean-tattoo/shorturl', 'michaelverv/api_project', 'Null-Pointer-Ninjas/google-dev-hack-2023', '134668/IS-PROJECT', 'struckchure/formatio-fastapi-on-alpine', 'langchain-ai/langchain-benchmarks', 'tiagowhuber/FS-Semestre-2', 'TinVo0908/Language-Translator', 'zikrisuanda11/learn-fastapi', 'nactemha/vom-api', 'antonbugaets/WLMLSD', 'rwrotson/api-file-transfer', 'EIvan21/VoiceRecognition', 'AryehRotberg/Mobile-Phone-Defect-Segmentation-YOLOv8', 'KFrinconJ/pg-back-end', 'raidraptor/be', 'mergd/ethgpt', 'SG-Capstone-SHrack/ML-Server', 'patw/ImageVectorizer', 'omidvosoughi/dicom-uploader', 'Nishant-Kumar-2002/SilWalk-Nexa', 'liboning2011/tongyi-word', 'SmigorX/Wybory', 'samuelperezh/propyapp-app-tic1', 'chaydson/proposal-classifier-api', 'MikeBorman1/scraper', 'JedMasterson/fintech_test', 'Cervantes21/impemex_page', 'leekwansoo/bipasori-mongo', 'MasTutor/Tutoreal-Backend', 'Mactto/weight-daily-log-api', 'valeri7122/GoIT_Team_3_WEB', 'nogibjj/drktao-week11mp-db', 'UMass-Foundation-Model/CoVLM', 'minerva-ed/MinervAI', 'taralika/proxy', 'Marat-77/medgarant_test', 'JahanzebJahangir1/Ecommerce_Admin_Api', 'arystambek-dimash/tolqyn', 'exclowd/cross-document-coref', 'athena-labz/orgs_backend', 'helton/chatbot', 'IamTyrone/Kraven-The-Hunter', 'alexyho9/Helping-Hands', 'l-mental/proyecto-dise-o', 'heiwado-yus-kawabata/daws-unzip', 'leekwansoo/bipasori-sql', 'maxpurrp/Ace-Place', 'sadikkuzu-boun/glassdollar', 'Caanar/despliegue-prediccion-readmision', 'olegDk/news_analytics', 'STI-xa/QRkot_spreadsheets', 'nogibjj/IDS_project11_yc541', 'tonykimisinthehouse/M4', 'janedotx/hearth', 'Aprilerr/Qiniu', 'DriveMyScream/Transcriptions_meetminutes', 'djh00t/klingon_auth_proxy', 'LastBruck/url-abbreviation', 'congchan/llm', 'winn1011/TypeAnimal', 'durajetz/fastapi', 'ThanhLong2906/SPD', 'DevZTH/KVINT_TZ', 'deeleeramone/openbb-tmx', 'TPQuentin/MLOps_Project_1', 'bongkyunSON/test', 'vblopez/wsp_test2', 'jackalnom/insecure', 'SergioRojas86/ECS_DOCKER', 'daniilgorenkov/RecSys-final-project', 'OllieBullGB/DNLML', 'guilhermejcosta/pfsw-multicalendar', 'dhkswls1998/FastAPI_practice1', 'krunaldodiya/hello', 'JeffinWithYa/threat-modeling-agents', 'elbug-py/P3PDS', 'uqarni/fh', 'michellelim04/18221052_Just-In-Time_TransportationScheduling', 'bashkovs/LogCounter', 'rmoreno-w/projeto-maker-backend', 'coderZsq/coderZsq.practice.data', 'ParsivalT/Streaming', 'mathula2596/fastapi2', 'Felix-Pago/Test', 'nav-robotics/agent', 'nmelos/Despliegue-PaaS', 'agn-7/ifsguid-backend', 'Reptarking/repo5', 'mayraNeisa/repoDS_s5', 'kristinalubinets/book-store', 'Na322Pr/test', 'sreenivasmrpivot/WishWell', 'Paul-CG/currencybird', 'geraldngjx/FRIDAY', 'perch97/Dogs_FastApi_project', '000paradox000/fastapi-ds-template', 'humrochagf/wheke', 'h-k-nyosu/ChatToFind', 'jaewonE/babystory_backend', 'zsinx6/dramatiq-demo', 'InftyAI/Llmaz', 'jirarrazaval/tarea-3-jirarrazaval-back-fastapi', 'jmoro0408/Terms-Conditions-Comparison', 'xpuls-labs/xpuls-mlmonitor-python', 'Duck-Enterprise-BR/duck-academy-backend', 'Cheeyoung-Yoon/nextjs-fastapi-starter', 'go-isele/watcher', 'iPadurakaihatu/emergency-ryousan', 'jrueda02/Semana5', 'nogibjj/levia_colab_week9', 'suleymanerim1/BannerProject_StableDiffusion', 'nogibjj/IDS706_w11_DatabricksETL_hzx', 'USACO-Together/server', 'ldwong20/test-login', 'md-aseem/visa-approval-prediction-model', 'tanovs/repka_backend', 'nogibjj/Gavin_Li_Week11_Mini_Project', 'jrueda02/Despliegue-S5', 'Bruteforce-Group/phone-gpt', 'henriquebap/Python_Challenge', 'PaoAlfa/repo-api-starter', 'ocoiel/fastapi', 'dumeixiang/mini-w11-indi3-databrick', 'christiansakerb/Project_MT_DS', 'nogibjj/afraa-noureen_Mini-Project-11', 'manel-ab/S3-Proxy', 'FabricioMorales01/repo-api-starter', 'brivazz/ugc_sprint_1', 'apollohuang1/guanaco-lambda', 'KamoliddinS/Age-Gender-Detection', 'IsaacOrzDev/personal-chat-api', 'busrasulukan/mlops_project', 'peiminggu/docker-dev-env', 'aurelie-bdeb/securite-tp2-poc', 'MadavR/DSA_S5_CICD', 'dlondonor/MIAD_DSA_t5', 'dayroncj/MiadDsaT5', 'SergioRojas86/EC2_Docker', 'DamianMarvel7/Loan-Recommendation-Service', 'niyamaria-t/todo', 'Asadask789/Arabic', 'nogibjj/ids706-week11-databricks', 'richmr/winhotkey', 'The-Turing-Room/backend', 'volbil/gamebook', 'finos/perspective', 'PMaruthiPrasad/sensor-fault-detection', 'JongminChoi98/fullstack-gpt', 'malcolmchetwyn/rhino', 'jchaconq/S5', 'felix-engelmann/dranspose', 'signatoro/boardFinder', 'PifDaReal/jedha-deployment-project', 'SaiShashank12/fetch_assessment', 'richychn/ask-insurify-v2', 'JesicaVique/Taller_integracion', 'oteixeiras/acount-management-service', 'carinaesoft/cfdnsapi', 'Yatheesh-Nagella/Dashboard-as-a-code', 'aruyagirl/Chatbot', 'sevrn73/ugc_sprint_2', 'bryceeppler/htmx-fastapi', 'oteixeiras/address-search-service', 'lmladinos/Tarea_6', 'nekoraw/tp1-es2-2023-2-ufmg', 'alessandropaticchio/paper-summarizer', 'RefalMachine/llm_service_api', 'denver-code/apexid', 'NickIsSoCoolDev/Ranking-', 'AlanFeder/bethesda-data-science-rag', 'Jawad-Alhamadah/DogclassifierWebsite', 'kode-kelvin/NiceGUI-MongoDB-FastAPI', 'martynovappolina/trpo', 'edshkim98/DiffusionIQT', 'marzmesas/ML_cloud_pipeline_udacity', 'alexgoodell/open-med-calc', 'jeno-bellido/Pneumonia-Prediction', 'samurayy99/PoeBot', 'lucabondin7/speeqo_task', 'MasamioNakada/selection_candidates_automatization', 'camgran14/Proyecto_Grupo22', 'Sobiyk/cat_charity_fund', 'shushil555/Sensor-fault-detection', 'unifiedimaging/chatgpt-retrieval-plugin', 'muluayele999/summariesOflatestArxivLLMpapersFullStack', 'BreadInvasion/Day-Dreamers', 'ebubekir/sql-generate-app', 'NaveenManic27/fast_api_lms', 'MJedr/2fa-microservice', 'XizheSun0x0/cse5234-third-parties', 'bigai-nlco/langsuite', 'arslan-enes/stability-dynamic-advertisement', 'Holocruxe-Galaxy/Yavin4', 'NotShrirang/blockchain-implementation-from-scratch-backend', 'tamagotchi241/desplieguecinco', 'ceavinrufus/tubes-tst', 'vcolonnas25/raiz', 'cata1na/DSA_TW5', 'KISZ-BB/kisz-mlops-docker', 'firminoneto11/fastpi-with-django-orm', 'gastonoterom/CDD-GRUPO-4', 'Ldazam/CI-CD', '7x0/yearn-exporter', 'MarcosViOliveira/Projeto_Recomendador', 'iDodir/sqlalchemy_shumeyko', 'jeangen/datastone_project', 'raymondliuST/people_model', 'ThomasShih/class-grading', 'cata1na/DSA_W5', 'pratik2709/FastAPI', 'sha31dev/platable_backend_prototype', 'Lgrella/MiniProj11', 'folowbaka/user_registration', 'dmtorol/CICD', 'kellyninor/Semana5', 'nogibjj/MiniProject10_Kelly_Tong', 'iDodir/simple_app_fastapi_mongo_nginx', 'chteca/project_commerical_offers', 'minajnl/cicd-pipeline-fastapi-local-server', 'koenraadva/mro-class', 'haseHH/parcel-track', 'LAKARZAS/taller_5_DSA', 'MnMaxon/ME-Bot', 'ykday00/subbbbbb', 'DynamicNFTHub/FastBrownieAPI', 'paulovitorweb/quake-log-parser', 'SethGreco/vg-pokedex', 'Gumball007/PW-labs', 'ghostblade3301/room_reservation', 'manishkumart/LLaVA-Katz', 'loadingerror/agro_analysis', 'qq8244353/hactGPT_tokyo_2023', 'matiastulli/Voyage', 'KarimKishly/search-engine-backend', 'jflatorreg/Integraci-n-y-despliegue-continuos', 'ksagala/ipam', 'Agentforge-Hackathon-org/the-universe-poc', 'Oluwafemi-John20/text-summarizer', 'coinZee/Stableui', 'gwmic/bssm', 'nogibjj/IDS706-python-Individual-Project-3-XS110', 'ismirn/fastAPI_hw', 'gpt-partners/sales-assistant-backend', 'AdrianLyon/fastapi-new', 'louis-hertleer/API', 'Epharedam/RVC_xiao', 'mridk17/fast-api-dogs', 'RiP3rQ/FastAPI-course', 'sinangoktas/fastapi-tdd-docker', 'dsuprunov/container-template', 'tobusiek/PyDomuwa', 'kluev-evga/BookingExperts', 'lalolv/AgentsChain', 'brunoR500/IoT-Wemos-D1-MQTT', 'eidde606/ticket-api', 'mtreilly/heavyweight-fastapi', 'markblumenau/HW_FastApi_MLHLS', 'adelajaOlamilekan/urlshortner', 'Parzivalxx/spatial-index', 'Dhruv97Sharma/learning-hft-lld-zerodha', 'Guilhermee-ds/CryptoSystemAPI', 'aigrego/AgentGPT', 'zciw/spendings', 'BrandonnGonzalez/-Full-Stack-Messenger-Chat-App', 'oxjhony/test-ciberBasket', 'Mbatha-Marvin/simple-survey-api', 'Matheus-tavares-15/Portscanner-Python', 'MaxMorrison6/LiineTakeHome', 'raghavpillai/Courselook', 'luanalmeida18/barberShop', 'sultandelux/backend_edifai', 'levensworth/cet-project', 'brainstorm-beginners/gun-shop', 'AzukoTazumaki/FastAPI_Test', '101Viper777/dresify', 'CodigyX/diabetes-model', 'nogibjj/individual-project3-yl794', 'robertobru/netcl', 'JohanMeCe/Despliegue_con_contenedores_JAMC', 'syedkhizarrayaz/Forsit-Test', 'RRK1000/data-pipeline-example', 'AlexanderKudr/tune', 'LucasLivrone/kiusys-devops-challenge', 'backspace1990/FastApiMyApp', 'KekJoy/backend', 'gmarena14/DespliegueSoluciones_semana5', 'SantiYepes2/FastAPI', 'nogibjj/IDS706-Databricks-Pipeline-XS110', 'lomolisso/esn-ble-prov', 'SantiYepes2/heavyweight-fastapi', 'DeyvidsHK/docker-armonia-web', 'pmashkovtseva/fastapi-hw', 'Ole-Magnus-Hoi/personalhandbok_gpt_backend', 'PlayerDoni/aula15-introducao-banco-de-dados', 'BrayanTorres2/DSA_semana5', 'waysiPire0/ecommerceAdminFastApi', 'r-pusev/fastapi-hw', 'hockeyiscool19/mygpt', 'michaelsht/MariLearnTST-2', 'Basak-SWM/wasak', 'Oskalovlev/autogen_pdf', 'soumyadeep2002ss/Attendance-Taking-System', 'yexingyun/NWMVideo', 'rescode-team/langchain', 'nogibjj/Jaxon-Yue-Mini-Project-11', 'one-zero-eight/hackathon-monitor-back', 'erinmikailstaples/ship-like-a-spy', 'robertrb63/Universidad', 'Hnatekmar/turtle-miner', 'ryaneggz/fastapi-celery', 'jhalljhall/fastapi-oauth2-demo', 'maniklem/FastAPI_SAAS', 'rafaelpierre/larry-ai', 'DarkPyDoor/fastapi', 'YBakalenko/IceCube', 'neobijaysya/FastApi_Vet', 'ghostaseem/WorksOnMyMachine', 'Ivanmoranr/Bool-Market', 'JeffreyDinackus/Docker-1', 'nquidox/sports-api', 'osaradahir/heroku_backend', 'Oh-SulGi/Fastapi-Backend', 'NFS002/swimp3', 'quantum73/async-python-sprint-4', 'beardedslav/coding-challenge-google-keep-api', 'AlexeyBely/notifications_sprint_1', 'avemoi/incident_clustering', 'aryanmarwaha/Medofin-API', 'boiko88/fastapi_simple_demo', 'hosseinkazemi99/fastapiProject', 'nirvor/litellm', 'dpills/ai-assistant', 'SayWas/OTRPO_2', 'red1r3ct/controllable-ai-swarm', 'lskarada/Machine_Learning-Image_Classification', 'Hossein-Gholami/news-backend', 'josanri/elRastro', 'FiniarellAK/PythonProject', 'htrbao/Tienlen-Bot', 'cstan969/pretence', 'Asadask789/backend', 'Ballesd/HuntyTest', 'yusdemir/docker-compose-mongodb-example', 'nabeelbinriaz/backend', 'amandazanata/project-restaurant_orders', 'Sattwik-kumar-panda/SOC-Assignment', 'janhvi2806/Covid_19', 'SRIJON2000/Amazon-GPT-Search', 'febin-micheal/multi-tenancy-demo', 'nicolasgarza/APITesting', 'Jef-Engelen/BasisProjectAPI', 'pelagisk/softhouse', '0zob/apollo-api', 'MVShukhman/currencies', 'JTREJOG/ML-engineering-for-pp', 'aaronjlech/disc-golf', 'yemregundogmus/datacamp-titanik', '83hn4m/Toolbox', 'dianavillalba/DSA5', 'JuantonioR/DSAT5', 'psycho-baller/eco-enlightened', 'szvsw/ml-for-building-energy-modeling', 'JasonTrapp12/CampusParkingAPI', 'lwinmgmg/esport', 'tohfaakib/EasyPermitBackend', 'kangdongil/langchain-gpt-2023', 'hserocks/fastapi_hw1', 'se4ai2324-uniba/GHIPrediction', 'ThomasVuillaume/RAGexp', 'BU-Spark-Learning-Ambassadors/jarvis_instructions', 'Kabanosk/noising-website', 'Thaiebu/python-scraping-challenge', 'StefanHeng/Zeroshot-Text-Classification', 'kozpavelp/test_task', 'TheJobsDriver/Sanchez', '0xinsanity/storyverse', 'Karthikzee/Task1_Fluvi', 'TahaShahid1/sales_api', '2pizzzza/TradeProject', 'Tenundor/hw01-veterinary-clinic-service-api', 'apollo812/SD', 'VishvamPatel31/bot_converse', 'jeandsantos/30-day-code-design-challenge', 'Bulga-xD/BaseFastApi', 'BesfortBunjaku/centilliondataback', 'ClearLove443/python-fastapi', 'mosamadi/ai-chat-fastapi', 'christiansakerb/Despliegue_railway', 'vicleca/fastapi-blog', 'Karthikzee/Task2_Fluvi', 'jaesekim/Youkids', 'BesfortBunjaku/centback', 'alena-zayts/LLMs_for_integers_addition', 'maazqureshi446/ecommerce-dashboard', 'EmbraceAGI/LifeReloaded', 'jiaxiangc/learn_git', 'momosahi/age_detection_app', 'nataliaangaritab/MIADDespliegueSolucionesW5', 'Alrobbertz/llm-patient-personas', 'z111048/test1113', 'AntiCare/Svelte-fastAPI', 'you13lib/fastapi-sample', 'khoamajik1752/rest-cinema', 'Karthikzee/Task3_Fluvi', 'Anushka952/WindProject', 'Izpodvypodvert/Notes', 'Swetsy/APIproject', 'Aulianyb/Tugas-TST-Rollcall', 'lipskiyp/messenger', 'r0901651/basisproject-api-development-videogames', 'vbalalian/RomanCoins', 'koushikromel/fluvi-task3', 'juancolamendy/google-sso-poc', 'Olga9913/FastAPI_vet_clinic', 'debora-alayo/clima-segundo', 'AleGoMat/Taller_sem_5_dsa', 'Aaliyah097/durak', 'Thymis-io/thymis', 'egor-zhit/QRkot_spreadsheets-1', 'tarpetos/ovbk-task', 'SashaKryzh/iphone_watcher_bot', 'vicleca/fastapi-ocr', 'daveshap/ACE_Framework', 'nsj2ib/L_UR8', 'Andresbeltran200/Integracion_y_despliegue_continuos', 'waleed3298/InventoryManagementAPI', 'vishwanathdugani/task_scheduler', 'jsalcedo14/guia-5', 'satfaat/pythonDemo', 'NMP5/playground-recommender', 'snkennedy21/JWT_Auth', 'JennyFrost/Authorization_service', 'simlabahn/langflow-railway', 'algo98256/KintuBard', 'robzeh/genai_hackathon', 'BalshowAndrew/second_meeting_fastapi', 'sssingh/guruzee', 'u03n0/gendered-nouns-project', 'mebaysan/IoT-Gateway', 'AzimiHA/NextJSAppBackend', 'MindAsEngine/mae_parser_web_api', 'AlexStr94/finodays', 'karma-git/demo-api', 'ObelusFamily/Anythink-Market-7gv3jf7k', 'amalinadhi/forecasting_tools', 'priya0010/k8sProject', 'codemaker2015/vector-database-experiments', 'm5i-ng/fastapi-uvicorn', 'asifrahaman13/healthcare', 'M1nt1k/books-library', 'Beauchamp-West/ChatFlow', 'Omtilekar/Text-Summarizer-Project', 'lastanna/fastAPI_mini_app', 'Chawaika/Assign1', 'Jorik-Goris/apiproject01', 'mthakurcodemuses/named-entity-resolution-using-spacy', 'TaylorAIDev/backend-test', 'VirusZzHkP/The-Black-Tiger', 'Salman98/clean-code', 'koushikromel/fluvi-task2', 'olegdenko/HW_WEB12', 'unica-isde/isde-projects-2023-C', 'gregsadetsky/recurselevision', 'adamtopaz/leannldata', 'SebastianLukito/ChatbotJarwo', 'axjing/AppX', 'athomsAF/nox', 'Sparrow0hawk/fastapi-sandwiches', 'bagcheap/privateGPT', 'vaproloff/gbArch10', 'AccessAI-Public/sanchez', 'Asterios7/sentiment-analyzer', 'elineii/devinstr_ha_fastapi', 'Admiral76/DogDatabase_fastapi', 'HugeLetters/jun-hackathon', 'linancn/TianGong-AI-Actions', 'M1h4n1k/crypto-payment-system', 'SebOpo/backend', 'somenath203/Clustering-News-Unsupervised-Machine-Learning', 'mirokery/dino', 'DIEAGOMEZGUT22/Taller-5-DSA', 'nini9819/IW_Phishing_Detection', 'Keviinplz/optimized-shifts', 'dwarfer7634/devcontainer_poetry_fastapi_template', 'itoro-michael/evidently_repo', 'godstrenzth/aipro', 'zek224/Civic-Seed', 'lina1919/fastapi-practice', 'smart-ai-sandpit/interview-question', 'TayJen/ml_services_dev_workshop', 'LeeYongBeen/TIL', 'Krissy510/IndividualProject', 'Wysted/template-fastapi', 'adrianstando/Big-Data-System-Cryptocurrencies', 'Faheem-maker/ForsitApi', 'MihailPohodeev/RussTravel-backend', 'anthropichackathon/Claudy', 'trinhtuanvubk/t5-triton-pipeline', 'trinhtuanvubk/jointbert-triton-pipeline', 'ADBuk/HSE_MLOps', 'rochamanuela/fast-api-crud', 'cujaeredsocial/tetocadocker', 'woutp3/DevOps-CICD', 'divyanshlight/Diet-Reccomendation-system', 'lucassuchy/projeto2', 'Hadamanthis/fastapi-example', 'gd1m3y/divgen', 'rickyc19/nature_notice', 'mitsukiryu/carpool_project', 'ussii39/auto_gpt_api', 'peanangel/covidclassificaiton', 'youngyury/VAMP_MLOPS_HW1', 'AVShaporev/simple_FastAPI', 'AIEatsTheWorld/Vercel-Python-API-Template-GPTs', 'qq1783766004/stable-diffusion', 'gsmarin/python', 'Cords-Connect/Chroma', 'danzisky/test-q-and-a-backend', 'Esperansa08/cat_charity_fund', 'JC-Xevasty/nlp-libraries-training', 'NikhilNarvekar123/hackutdgoldman', 'simonHorvat/PostAPI', 'bababbbaaa/backtest-triple-tick', 'mahesh796/webscraping', 'chamith-Hemisara/LibraLoom_new', 'VolodymyrVdovyn/The-Frontend-Company-Test-Task', 'FISHers6/CodeLearn-Agent', 'NikitaDyachenko/natsenka', 'Bug9Best/blood-donation', 'Elster512/book-recommendation-system', 'sintech-corp/undp-hack', 'james-zafar/DEPART', 'zouXH-god/meme_web', 'ooooose/fastapi_CI', 'babymonkey1111/pagination-fastapi', 'evteevakb/async-python-sprint-5', 'Carbon-Busters/ai-model', 'lianglizxc/assessment', 'RyanF-UTD/HackUTD-back-end', 'as-pedro-cunha/extractor', 'jakha921/EMS-Ziyp-app', 'Memorizu/OneTime_Secret', 'gyuseok-dev/fastapi-crud', 'xgeeks-geekathon/temporary-team', 'kedoska/Document-Search-Service', 'Huytrann97/fastApiDocker', 'Ilsur-ya/VitAgeClassifierFastAPI', 'Laden8210/testwebhook', 'PeetCremer/arch-api', 'urmaspitsi/PackerSolver', 'eugene-bosca/Report-Builder', 'JohkuF/ReceiptWallet', 'san100791/notifications_sprint_1', 'onwords-smart-solutions/sh-venkatdev-coimbatore', 'WALKWAY36/QA_Chat-bot_0ffline', 'CMU-17313Q/fall23-nodebb-bugbusters', 'srijanmukherjee/compliance-cell-chatbot', 'Pantanal-dev/front-back-draft', 'ghga-de/ghga-datasteward-kit', '1luff/docker_flow', 'Pattamagarn/helpUbon', 'PongsatornBank/Ubon', 'mirabots/twitch-notifyer-telegram-bot', 'ArthurVanDoren/song_api', 'BilyanaRumenova/ResidentsGroupingApp', 'duwei/chat', 'reswaratrista/tubes-tst', 'motiio/flirtex', 'wshobson/chat-langchain', 'davidshare/TersuLMS', 'DKAvocad00/AI-personal-trainer', 'Gorgeren/Case-Avito', 'artemplevako/prunner', 'libernightin/FastAPI_vet_clinic', 'axis0047/Simple-lie-ditector-with-gsr-sensor', 'sagargowda88/LLM', 'renubaskar/k8s-project-12', 'bluemeat0724/fast_template', 'Artur-Galstyan/jitx_backend', 'bwithai/tatoo-past-python-script', 'martins-publico/data-fast-api', '0just0/comma-placement', 'OtterDani/semana_v_i', 'JurnWynants/APIdev', 'IsakjanovNurmuhammad/Uptimoll', 'Halucida/Hadji', 'daveg7lee/fullstack-gpt', 'SaiHtetMyatHtut/rsu_openhouse', 'maxazure/notesapi', 'PeWeX47/Projekt-Zaliczeniowy-Wprowadzenie-do-programowania-w-jezyku-Python', 'holk26/FastApi---docker', 'abhaymathur21/IITR_Sociothon', 'alenakatkova/hnl2023-starsplusplus', 'Darkstrouk/fast_api_hw', 'alvinbengeorge/CRUD-SQL', 'CameronSima/yt_text_search', 'Lexxar91/cat_charity_fund', 'uoa-compsci399-s2-2023/adversarial-insight-ml', 'gramatan/Credit-card-api', 'kisakiwata/image_scanner', 'MVjimboUniversity/Urban-Public-Transport-Analysis-Service', 'Skower/mlpops', 'RichNachos/macs', 'Kaleb-Nim/SingLife-Polyfintech2023', 'leobaetarj/fast-zero', 'CarlosFerLo/datathon-2023', 'engrahsaninam/FashionAI', 'usmskolyadin/fastapi-react-auth', 'snguyenthanh/realtime_chat', 'Nevojt/private_messages', 'AssemblyAI-Solutions/LeMUR-Realtime-Phone-Assistant', 'nogibjj/Jeremy_Tan_IDS706_Week11_Individual', 'reinhartlim1/tst-api-order', 'Xopxe23/fiagdon', 'jrbrawner/cm-inventory', 'Muhammad-Akhlaq/Ecommerce-FastAPI', 'ObelusFamily/Anythink-Market-hfdqtzmf', 'tntath/api-assistant', 'Floly/devtools_hw2', 'emelianovsergei/ci-cd-experiments-python', 'chetanchoudhary-delphix/fastapi-poc', 'haohanyang/chat_mock_server', 'Muhiddin0/youtube-playlist-loader', 'tabris2015/ai-topics-2-2023', 'c-gohlke/model-starter', 'Saifullahshaikh/Blog-Application-API', 'YoungZerg/int_2_test_task', 'jharahul968/full-stack-fastapi-next', 's27dsam/flo_api', 'Ekta-Shah/t5-translate', 'bryanlopezrr/BackendApp', 'IsakjanovNurmuhammad/jarvis', 'EleonpE/Twitter-Checker', 'AlexandrVasilchuk/cat_charity_fund', 'tamngco/bigdataarchitecture', 'haduharu/avikus_backend_task', 'heyatish/combinator', 'tomsmoker/llm_kg_generator', 'nikunj9180/Hackout_Investiwise', 'Red-Cadets/Red-Courier', 'pkannan3/guide-me', 'mashiranna/ML_proj', 'onurbaskin/live_chat', 'joydeep-git/test', 'j-takurou/speech2text2chatGPT', 'qiyuan-chen/RealDoctorMonitorV2', '08rly/todo-app-fastapi', 'primitivedatatype/SummerBreak', 'Kenan7/dynatrace-task', 'Pratham-Mishra04/interact-ml', 'MashmumMashuk/Text-Summarizer-Project-NLP-', 'Vieta00/GeoCityTools1', 'frankbond007/kube-requests-api', 'Muhiddin0/YouTubeLoader', 'rayhanmp/Tubes-TST-2023', 'imhilla/fastapi-docker-compose-setup', 'projet-archi-microservice/Recommendation', 'shatharashi2001/deploy_extract_data', 'users50/Sentiment_Analysis_API', 'kian-web/server', 'qzqzcsclub/ConfessionBot', 'VladimirMiroshnikov/FastApi_homework', 'tanvi998/ChatPDF', 'm-pulkit/Bank_Churn__FastAPI', 'purvapd/Potato_Disease_Detection--Deep-Learning', 'Meetup-dot-py/health-insurance-charge-predictor', 'hdsme/ScrapAPI', 'nkhieu02/junction2023', 'mradzikowski/Durhack2023', 'Harsh-Avinash/Caduceus', 'MohammmedAb/FastAI-FastAPI-SaudiLandmarkClassifier', 'fenixpapu/fastapi-simple-app', 'tulenb52/FRT', 'coderbarns/insaights', 'isaacaisha/Dbt-Openai-Api', 'PrasetyoWidyantoro/E-Commerce-Product-Classification-Using-Multi-class-Classification', 'phucvinh57/dw_dss', 'figoo210/ideasqr-partners-chat-server', 'babymonkey1111/FastAPI-Cards', 'PrimeIntellect-ai/automated-lit-review', 'shyamenk/docker-app', 'BigDataIA-Fall2023-Team5/Assignment_2', 'Funda-Arquitectura-Software-Go2Climb/activity', 'VitorCarraraMarques/visie-teste-pratico', 'WiaanB/spotipy-api', 'chilaxan/Wager-Whale', 'adaptationai/BayesianLife', 'Strangemother/python-porthouse', 'maariagarrcia/pizzeria_v2', 'ilijavishinov/aws-doc-chat', 'tarnasi/fastapi-kafka', 'Pongsaky/handmadeECommerce', 'Funda-Arquitectura-Software-Go2Climb/tip', 'osman-haider/Fastapi-Traning-Prediction', 'corfa/distributed-systems-cours', 'MikeIV2007/Python-web-hw11', 'kvncont/report-hub', 'hampster2018/HackPrinceton', 'alexsgit/wbdata', 'BArs303/ai-lab-3', 'Trevahok/facboy', 'utkar22/SpeakSieve', 'emildenikaev/RusFuture', 'strannik1105/trains-backend', 'yesid-lopez/delivery-api', 'koushikromel/fluvi-task1', 'GDSCltce/AIML', 'SeniorPomidor229/EmergeSyncBackend', 'filmapp/python-monorepo', 'huolongguo1O/AssistX', 'ViggCodez/CV-Analyzer-app', 'aslakvs/INF2220-A2', 'Niccari/cloud_run_http_server_terraform_example', 'azhagu-swe/FastApi_Jinja2_Fullstack', 'ARUNKUMAAR-R/K8s', 'supermario-ai/SuperAGI', 'supermario-ai/LLMStack', 'supermario-ai/SolidGPT', 'supermario-ai/XAgent', 'supermario-ai/superagent', 'supermario-ai/noScribe', 'supermario-ai/reflex', 'supermario-ai/Open-Sourcerer', 'supermario-ai/sweep', 'supermario-ai/LLaVA', 'supermario-ai/genai-stack', 'supermario-ai/quivr', 'conorturner/project-broker', 'pkeen/langchain-playbook', 'gogumaC/linkedin-auto-posting', 'NixLyn/SERVER_LEADS', 'arshbhatia8/brain-tumor-detector', 'hhchiou/plaza-devops-coding-assignment-humphrey', 'thiago-allue/app_pokedex', 'Fahimzz/ParallelThreademo', '29A616/SL-VA', 'sohomx/guardrails', 'bibliographygenerator/chatgpt_plugin_bibliography_crossref', 'BernarBerdikul/async-python-sprint-5', 'celsiusnarhwal/foxy', 'Khempawin/autocap', 'vietanhdev/p8hub', 'yhkl-dev/fastapi-react-template-project', 'Migueljfc/stockAPI', 'DE-AndrewLe/testrepo', 'RachitKeertiDas/Senate-Search', 'BeeInterest/Computer_shop_API', 'shynkary/aws_presentation_app', 'khanhnguyenuet/Sample_app', 'denppa/document-chat', 'JerryIshihara/cs260a-ai-endpoint', 'andrewlkd/haircut', 'Sobodazh/cat_charity_fund', 'RDonii/medhub', 'gooncharova-practicum/auth_service', 'RichNachos/patterns_2022_final', 'KarloBorovcak/LumenDS', 'adame222212/thesis', 'Omega1424/Langchain-PDF-chatbot-backend', 'ChristopheBW/CSI4900-SSA', 'imanuelraditya/shoewizards-tst', 'kangmin5133/katech-api', 'angoies/2022_CETI-pruebaPPS', 'Matheus-Vicenzi/desafio-i3c', 'anima-regem/HackFake-ML', 'RheoBio/EPG_ML-model', 'Arquisoft-2023/SAE_formularios', 'hegdebhavya/Mobile_ChatGPT', 'RabcriN/QRkot_spreadsheets', 'VictoriusHorse/WatchListTCC', 'KR-Ravindra/keyword-krawler', 'UK-rain-e/ChessGPU', '419836/mu-psd-01', 'geonwoo-jeong/fullstack-gpt', 'manishyad375375/-Project-Exhibition-1-Diet-Planner', 'nogibjj/706_Week11_YL', 'nyukiher0/st-preview-stock-price', 'drishyakarki/LangChain-and-Llama-A-Streamlit-enabled-Duo-for-Docs-QnA-', 'Snehal-Abhale/phase3_project_news_app', 'TrainToGPB/workspace', 'OSTOLEX-Technologies/castledice-storage-backend', 'snickerdudle/llm_flow', 'rafaelinopro/Data_Engineer', 'fayhub/AgentGPT', 'maxdavydenkouo/ireland-real-estate-scraper', 'vyvan0706/maucho', 'Ozziekins/ML-based-Adaptive-FEC', 'trung24012001/fastapidemo', 'BenAAndrew/frontend-challenge', 'DzikriMuhammad15/fashion-warehousing-api-Plus-Authentication-', 'oa-drodri/backend-challenge', 'ArcaneSK/agility-ai', 'Dagmawi-Beyene/DexterAI', 'MateusNazareth/FastAPI', 'ikarabulut/anomoly-detector', 'MythiliPalanisamy/ImmoEliza_docker_pipeline', 'evan-rash/foe_foundry', 'Shop-Tai-Che/STC-Backend', 'unica-isde/isde-projects-2023-D', 'Nasamm/microservicios', 'nogibjj/mini_project11_xueqing_wu', 'ritesh-panwar/40_FinalProject', 'krrishdholakia/proxy', 'SasCezar/AutoFL', 'Lyfenko/fastApiProject12', 'bitbuster-labs/cookiecrasher-c2', 'akshat2602/coverweaver', 'evg-kononov/SciTinder', 'ChmilDmitrii/DinUp', 'hkxiao/Ad-Sam', 'devsomda/Gotcha', 'ducnv0/faceid', 'nogibjj/individual-project3-zg105', 'brandon-braner/copilot_chat_fastapi_auth0', 'asernat/test-2-api-docker', 'code-test-job/bnp_test', 'krabic/ai_assistant', 'mvl19/infra-test', 'MythiliPalanisamy/ImmoEliza_pipeline', 'SnapMeals/API', 'cramayag/CI-CD', 'Preetnagda/AlumniSystemBackend', 'coynestevencharles/feedback_generation_langchain', 'dycw/tutorial-building-data-science-applications-with-fastapi', 'd-pacheco/FantasyLoL', 'AHD-JR/hi', 'JennyFrost/Async_API_FastAPI_2', 'zeabur/fastapi-template', 'PoVA-Consensus/Proof-Of-Concept', 'EASS-HIT-PART-A-2022-CLASS-III/FactoryManagement', 'mthh/presentation-python-r-shs', 'Cicero-ly/mpnet-embed', 'nogibjj/Bobmini_project_9', 'ChirixC/Steam-ML-OPS-Recommendations', 'romaissaMe/legal-ai-assistant-web-app', 'Cdaprod/cda.CredKeeper', 'SumeenaSalim/python_microservice_project', 'Bardia323/real-time-vision', 'yanlord20/test-uploader', 'nogibjj/Fall2023_IDS706_MiniProject11_JiayiZhou', 'Im-Asher/star-x', 'veeviann/gen-laibrary-hackathon', 'power-saver/power_app', 'Antara999333/Miniproject11_data-pipeline-withazure', 'YolandaFrancoC/Semana_5_DSA', 'hc-psy/buddhist-study-api', 'clam004/async-in-out', 'lsw98/ssafi', 'topboyfr/Alt-school-python-project', 'No-Country/c14-42-ft-python-react_InfoFarma', 'RoynerS/netflix-clone', 'nreinartz/tatdd-backend', 'LePhuongTrung/learnPython', 'nuna-aa/chatbot-recommendation-engine', 'AntoineMeresse/UrbanTerror_Discord_Bridge', 'shrikantNemiwal1/peaceweb', 'BlairABlake/ForexML', 'JennyFrost/Async_API_FastAPI_1', 'monk-after-90s/alpha_rabbit_server', 'urmaspitsi/PackerUserManagement', 'fatha1/CC', 'TheAIWizard/SSP-LLM', 'Anish-Mitagar/meal-planner-fast-api', 'jddiaze/Taller_CICD', 'Midnite/schmoozio', 'ArtyKurkin/QRkot_spreadsheets', 'Dotahn/chbt-adf-try', 'gramatan/URL-shortener', 'Ivan122727/bgmu_proj', 'AlexeyTerleev/user-management-micro-service', 'blarno/fastAPI', 'ObelusFamily/Anythink-Market-ujpnlfyw', 'Dicklesworthstone/bulk_transcribe_youtube_videos_from_playlist', 'stonega/lushu-book-bot', 'unica-isde/isde-projects-2023-F', 'paxcodes/youniversitv', 'UserNameUTF-8/smart-auth', 'unica-isde/isde-projects-2023-H', 'kode-kelvin/NiceGUI-WeatherAPI', 'CichyJohnny/howlongtill', 'nathan294/Moodflix_back', 'egor-zhit/QRkot_spreadsheets', 'helloerikaaa/test', 'PointlessAIM/todolist_python_frameworks', 'Dawo252/working_api_to_deploy', 'IkarosKurtz/DDLC-Worlds-Apart', 'bzho3923/ProtLGN', 'spykelionel/skin-analyzer', 'drremus/smg', 'Morgan-Sell/fastapi-deploy', 'NOOBHECMETAHKA/PythonHomeWork', 'joaopmatias/zoomcamp-project', 'tigran-saatchyan/UniMart_by_EvoQ', 'suddenAppearance/take-home-test', 'csornyei/url-shortener', 'rajashravan/loan-api', 'maxodum/fastapi_tutorial', 'Sajeevan2001/Human-Resource-Management-System', 'Hedef-edx/edx', 'assetsathidev1/paperspace-test', 'hassaaali/telco-churn', 'sohomx/qa', 'KinetexNetwork/ethglobal-lisbon-zk-resolving', 'demonory/Despliegue_S5', 'Ashutosh-Gera/floride', 'iPadurakaihatugaisyakannrisyatyou/emergency-ryousan', 'Armotea/FastAPIFilms', 'RouteAble/routable-ml-backend', 'glebkrapivin/swe_ha', 'tanasecucliciu/fastapi-async-demo-project', 'itshadar/smart-house', 'nilmaWILP/gaadiwala', 'rubybear/FastAPI', 'smatsubara15/Hedwig', 'fedotovdmitriy14/async_api_movies', 'DraconDev/fastapi-starter-with-venv-on-vercel', 'ahsan-ahmed-khan/FastAPICrudAppMongo', 'Adam5626/texas-testing-server', 'dmavani25/MinervAI', 'Tact-Team/TinkScreen', 'gorkemyar/ECommercePlatform', 'ejenliya/ParaphrasesAPI', 'SimonGonMon/fnaf-api', 'kattammos/Ml_deployments', 'nlarrea/devcamp-capstone-project', 'scb-10x/wangchanglm-api', 'fabrika-ai/actions', 'ibrahimaD73/fastapi', 'nogibjj/Mini_Project11_Yabei', 'caliari-italo/MyReppo', 'medale/road-to-k8s-review', 'icke758/FastAPI', 'KhaledFarghaly11/Detection_OCR', 'louis-sanna-eki/tarot-gpt', 'takuro1026/ragnarok_expedition_pet', 'dylkol/music-transformer-with-style', 'palamiko/IntegrationGateway', 'melo1901/workout_api', 'nogibjj/Jaxon-Yue-Individual-Project-3', 'FabricioMorales01/DataIcfesAnalysisDSA', 'code-x-0018/openchat', 'anothermayank/classification-assignment', 'JavierTarazona06/Bienestar_UNAL_API', 'Terencehdl/jenkins-datascientest', 'Johnaius/Python_ms_sentiment_analysis', 'cnzdgr/titanic_survival', 'rodolfolermacontreras/CMU_Music_Recommender', 'AdeebCanCode/hepatitis', 'H-IAAC/translate-dataset', 'down-shift/action-recognition-hack', 'Whitepaperone/ieum', 'mattstern31/imagin-AIry-Python', 'beiyuouo/model-playground', 'juanrave/CICD', 'Hurhaj/ElevationMicroservice', 'jfgagnon00/PlantVillage', 'saadadel/dmart_middleware', 'benhid/unique-visitors', 'panovicina/LinkShortener', 'tobias-piotr/debug_hell', 'NOSTRADA88/RekrutoApp', 'asiernoide/MakiBot_docs', 'pawelkopaniecki/ses', 'shuqike/planning-LLaMA-family', 'Haschmasch/WebEngineering2', 'IdoAbramov/RecipesShare-FastAPI', 'xh4vm/datawagon', 'dhedderich/ml-web-deployment', 'yafitKeshet/FinalProject', 'nreinartz/tatdd-handler', 'ElaineLLL/TapiocaCustomerService', 'Amir23714/Visual-Space', 'tangent-berlin/AgentGPT', 'ChamboxCom/mlops', 'vitormoschetta/go-performance-test', 'nogibjj/tinayiluo_Databricks_ETL_Pipeline', 'MadelineKelly196/MadelineKelly196.github.io', 'Minal-singh/fastapi-stripe-integration', 'nogibjj/xueqing_wu_individual3', 'AHD-JR/Harmonify', 'nogibjj/Fall2023_IDS706_IndividualProject3_JiayiZhou', 'FalseDeckard/FastAPI_homework', 'Adityashinde1/ner-sports-task', 'bootcamp-3-Team-A/logiapp', '60lucky/conference-backend-test', 'sakai-303/lineChatBot', 'eetac/intro-to-github-jlopezr', 'jihirmas/P3', 'mhlaghari/fault_detection', 'tand826/wsiserver', 'simon-cerda/challenge_LATAM', 'shivamg7/stocks-explorer', 'IskhakovAL/DataWagon_2023', 'arwa-mili/News-webscraping', 'xodiumx/mp3_converter', 'dreamteamxx/hackathon', 'vladoossss/DangerZoneService', 'ElaineLLL/TapiocaComposition', 'vromanmelnikov/MistyBIT-LCT-4', 'ktap23k/EspControlCar', 'Chetoff1228/digitalhack', 'BigDataIA-Spring2023-Team-05/Aircast', 'mgunnin/gpt-lol', 'nogibjj/KatherineT.DE.Mini-Project_11', 'erfan-rfmhr/fastapi-nginx', 'znnznn/fast_api', 'unica-isde/isde-projects-2023-E', 'felipesavaris/game-quake-arena', 'PavelRepnikov/fastapi_hw', 'Snikin013/rlt_back', 'kennyngdev/celery-fastapi-integration', 'Bacepok/QRkot_spreadsheets', 'Rihab-Elifa/RecommanderArticle', 'jordankrp/biblioteca', 'Brainsoft-Raxat/factuality-api', 'tresphill/native-ky-plant-db', 'tolatolatop/devbot', 'Aykhan-s/series-bot', 'chambox/mlops-template', 'dantas2009/senac-webservice', 'unica-isde/isde-projects-2023-G', 'diagridio/catalyst-samples', 'KseniiaKarpova/new_admin_panel_sprint_3', 'Fetuzi/sym_arbitrage', 'PinkOatmeal/jobs-api', 'InnocentAnyaele/form-chat-server', 'GyurcsikMate/Aruba2023', 'yasheshshroff/LLMworkshop', 'rsleiberin/kami', 'diminecjean/discord-bot', 'iDodir/fastapi_onion_architecture', 'iDodir/trading_app', 'notRyuk/CaaS', 'vallbull/promenade_back', 'GuilhermeAlencarM/APIFaculdade', 'Sobodazh/QRkot_spreadsheets', 'sunilprakash97/Data-Pipeline', 'nogibjj/IDS706-Individual_Project_3_us26', 'LuccianoG/AUTO-GPTFORGE', 'Baisangur-Dudayev/API-development-basis-project', 'evenmare/fastapi-service-base', 'NeerajGartia21/ERP', 'shrinidhinhegde/scratchFastAPI', 'agreemsxv0v/Text-summerizer-Project', 'sohailtanveer01/zak-quivr', 'optiflow2023/ModelAPI', 'edraj/middleware_skeleton', 'goblinrum/boolotube', 'brunamariap/MS_AcademicManagement', 'Luke943/Todo-list-webapp', 'walteralv/chapaq_security', 'adeliiman/Bingx-spot-all-symbols', 'Artemnikov/digital-server', 'MortonPL/wut-machine-learning', 'chemby/python_course', 'RostislavB74/hw11', 'felixzhaofelix/regression-model-less-requirements', 'rodolfolermacontreras/Recommender_System_Songs', 'sandoreno/Task_1', 'vsevolod-anlst/dogs_clinik', 'frankbond007/kube-backend-connector', 'nogibjj/Haochong-Week-11', 'CatIsOutOfTheBag/monitor-antifraud', 'LuccianoG/ALPHA', 'bairdob/CyberSecurityPractice', 'ClauBaqueroRico/Taller_Despliegue_Continuo', 'hvbr1s/canopy_bot', 'tencent-ailab/PCDMs', 'JbnehSah/User-Service', 'mkamranansari/hs23-frontend', 'wjdtnghks123/ui-final', 'Me-mind-hackerthon/memind-backend', 'idevforweb/fastapi-mongo-cookiecutter', 'j-faure/codeinterpreter-changes', 'AkilaTS/CashByChance', 'Cippppy/RegressionVisualization', 'Sithael/marl-engineering', 'RManLuo/llm-facteval', 'eliblurr/RippleMobile', 'YkkJin/trade-engine', 'stanislavminaev/sso', 'antaares/v3-template', 'burnstopper/User', 'ParserKnight/task', 'neokd/NeoGPT', 'chuck-stein/music-gen-exploration', 'Mike-swingman/booking-hotel', 'surctf/surctf_2023_autumn', 'BlackHC/llm-strategy', 'emmanuelsdias/hyper-wrapped', 'fernandezgonzalo/jobs-service', 'sheirand/noo_B_ooking', 'ikanam-ai/lct_2023_Krasnodar', 'ashishshetty992/sniper', 'Esposus/alertify', 'viraj-s15/local-document-chat', 'Prabhsimran1313/Plant_Disease_Classification-CNN', 'jlplautz/fast-todo', 'hivdb/chatpaper', 'ricsi98/sentiment_analysis_api', 'HenDGS/Rest', 'k402xxxcenxxx/plaza-devops-coding-assignment-ken-hu', 'cau-yeolsim/t-backend', 'AnthonyHol/cat_charity_fund', 'laurabecar/taller_s5', 'rmlopezgit/taller5CICD', 'TomatoFT/News-Verification-ML-Service', 'valghar/yandex-praktikum', 'jhalljhall/fastapi-docker-gitpod-template', 'SirwanAfifi/fastapi-websocket', 'jkosxz/graphql-demo', 'andyblarblar/papersplease', 'PDominguezW/RodrigoValderrama', 'AHD-JR/Weather_Extension', '4Tipsy/pass-api', 'Monikakusumanchi/Trace_Matrix', 'tannersmith40/pupdate', 'Fyleek/finapi', 'RobertHH-IS/Vercel-GPTs-APIs', 'vvekparmar/web-scrapers', 'ShiresFam/SiftBox', 'm-karakus/veri-bilimi-kursu', 'bootstrapital/stockstreaks', 'anmol678/prompt-log-api', 'Zensos/itnotice-core', 'Manoj-V-348/ubuntu-emr-deploy', 'lnkkerst/sduonline-graduation-picture-server', 'FinchCC/fastapi', 'jhansireddy34/ainewsapi', 'tauhiddewan/WeatherWhisperer', 'khuppenbauer/fastapi-dimb', 'bohdanhlovatskyi/ml_hw3', 'Typhon0130/mitwa.ai', 'SuhairShareef/youtube_web_scrapper', 'Lyfenko/fastApiProject13', 'dani-jimlar/djl_mini_project_11', 'mskarlin/art_snob', 'sosilvera/controlgastos', 'Knuckles-Team/genius-agent', 'wtpayne/AmboLLM', 'Yi-Zaha/NaomiRobot', 'shaileshkaliya/test_api', 'tranhoangnguyen03/embedding-fast-api-server', 'appleconda/infosec-a2', 'web-bee-ru/hack-2023-lct-guns', 'AryehRotberg/365-Learning-Data-Challenge', 'DSW-INRAE/dsw-inrae-old', 'Rasulid/Python_learning', 'MandipJoshi/nepali-date-api', 'swarth100/simple-benchmark', 'yao-lin-902/CPSC-449-Final-Project', 'JosueLeon/my-movie-api', 'AndieRowell/fastapi-test', 'ChococoLatte/MASIDA', 'peterpanbe/PrivateGPT-app', 'ramzifawakhiri/langflow-railway1', 'ramzifawakhiri/langflow-railway', 'montekrist0/ugc_sprint_1', 'sameeriron42/sync2way', 'preetibasyal/FastAPI_Tutorial', 'GANzi-23/fastGanzi', 'bernardotonin/pycine-back', 'KEAPoint/OnLog_Text_Summarization', 'kundanpaudel/InterviewBot', 'Cdaprod/api_gateway', 'dream-aim-deliver/mpi-sda-telegram-scraper', 'repin2/instaparser', '12shadow12/cpsc-449-project2', 'Lykos2/backened', 'Luchen2001/COMP90024-Cluster-and-Cloud-Computing-Assignment-2-Group84', 'dream-aim-deliver/mpi-sda-satellite', 'kamiljano/junction-hacakthon-helsinki-2023', 'henriklindgren/investigate-fastapi-nullables', 'wgomeza8/repo-api', 'konanaif/MAF2023-DEMO', 'juergen-kc/di-plugin', 'hibobmaster/wangfu-register', 'muriloteixeirabefore/api_flowix_template', 'saifulkhan/latent-space-vis', 'Hoyyyaard/NavGPT', 'unica-isde/isde-projects-2023-B', 'smartguy-coder/AWESOME-FASTAPI-PROJECT', 'shanky3678/learning-fastapi', 'sink257/PRS-PM-2023-ISY5002', 'byte-genie/llm-genie', 'AslamThachapalli/python-social-media-app', 'xxxNARUTO228xxx/we-love-you-all', 'andyolivers/llm-snp-dna', 'lidymonteiro/fastapi-do-zero', 'Koffer0-0/ECommerce-Shop-Backend-FastAPI-MongoDB', 'ArtemIsmagilov/email-notifications', 'DarkPyDoor/fastapi-f-4u', 'ladka6/kave-docker', 't-T-s/mc-server', 'TnioA/rest-movies', 'Nthliacc/MedManage', 'mattstern31/datasets-server-storage-admin', 'ILorencin/AI-pipeline-fastapi', 'avalanche05/finodays', 'ral-facilities/inventory-management-system-api', 'aminelaabi/archi_micro', 'csgomezo/raiz', 'mohamedaliabid10/Text-Summarization', 'SalimHachemaoui/API-boughani', 'iamMihirT/mpi-telegram', 'lkkings/YouTubeHelper', 'Rzz8/perm-backend', 'TrustShield011/canivete-hack', 'jgquiroga/hugging-face-text-embedding', 'wesley7137/iga', 'Suketug/MIRA_MVP_NEW', 'leonardltk/RAGcipe', 'metal-hed/fastapi-python', 'brunamariap/MS_Diary', 'k3ithloh/IS212-G8-T2-SPM', 'burnstopper/Quiz', 'kaveai/docker-compose-example', 'noli-noli/nllb-200-experiment', 'itatmisis/misis_iwcd', 'Ki-kou/portfolio-back', 'xanhex/fast-survey', 'iamMihirT/mpi-satellite', 'all-stackers/DataHack_4_AllStackers', 'Digiwise-APP/backend-digiwise-fakenews', 'sihuannewrise/xwick-telecom', 'koki-fore/charaban-hackathon-2023-aichi', 'DSM-FATEC/fatec_dsm_pln_chatbot_movies', 'ViswanathBalusu/CS695_REST_HLoc_Server', 'guptaneha0908/Text-Summarizer-Project', 'allannapier/cakes', 'JKChai/KAGGLEX_COHORT3_LLM', 'fmpmorgado/satellite_dash', 'beyz4n/titanic', 'viviansgithub/41127-SoftwareDesignStudio-CourseRecommendationSystem', 'The-Unknow/RankingAPI-V2', 'ShehneelKhan/E-commerce-Admin-API', 'FilipKolb/API-Dev_Filip_Kolb', 'purvapd/pepper_bell_disease_detection', 'OltiRocka/background-api', 'Preetham2004H/TaskManager', 'duck00036/Taipei-Public-Transportation-Planner', 'ymurong/dedup-at-scale', 'tuurhulselmans/api_test', 'AhmadElsagheer/pys', 'aswierc/gptlab', 'grvshrm/SocialMediaAPI', 'mokwilliam/become-a-head-chef', 'dfgomezc/raiz', 'cecilegltslmcs/emissions_co2_voiture', 'arsenstorm/art', 'stPhoenix/azure-mlops', 'YegorPedan/bwg', 'Mikhailekb/fastAPI-backend-for-clone-twitter', 'oleverse/qpdoc', 'MWindows99/YouTube-Trend-API', 'Jayanand-Jayan/Three-Level-Password-Authentication-System', 'kd-rnd/mle-assessment-smartretail', 'grygy/another-todo-app', 'jaza-k/find-my-ride', 'Bllagden/FastAPI_booking', 'dagedarr/QRkot_spreadsheets', 'Deepia-Development/airflow', 'factorzzang/battletubeContainer', 'Erwin-DS/DSA_Railway', 'Mochafbn/ds_project', 'PhilPark-geosr/hilsvis-wetheplug', 'LTCRX/ltcrx-scheduler', 'ryu-0729/calculation-tools-api', 'albertohco/api-workshop2', 'ferrahount/cajmetro', 'IRONICBo/QiYin_AI', 'zchelalo/chatbot', 'jonwhittlestone/fastapi-hr-finance', 'asmikhalitsyn/cat_charity_fund', 'rogebautista/meddatabrigade-project', 'ObelusFamily/Anythink-Market-0xdvicea', 'basel-ay/Magnetic-Tile-Surface-Defects', 'mauricio1308/pruebaRailway', 'SzymonSt/docker-signalone', 'serhieiev/ci-github-actions', 'sathish-1804/image-lookup', 'brivazz/Auth_sprint_1', 'ImanGoudarzvand/fastapi-example-template', 'kdaga81/CPSC449_Final', 'lcampanella98/cover-letter-writer', 'fmiskovic/app-service', 'hemanth22/fastapi-webhook', 'D4VM/comm_school_project', 'EmanueleRangel/csv-temperature-analysis', 'C4T-BuT-S4D/ctfcup-2023-quals', 'Cotchi666/FastAPI-Docker', 'maxgeorg99/FastAPI', 'aditya-5842/object_recognition_zim', 'bananichdev/fastApi-money-control', 'mchockal/Retrieval_Augmented_QA', 'GuiCandian/curso-deploy-API', 'J-happycoder/Fullstack-GPT', 'AnyNoth1ng/PEN_HSE_FastApi', 'MohammadOwais10/AtriLabs', 'haihaimx/dyapi', 'paavansundar/personnel_financial_advisor', 'ardun12/IdleProject', 'MatthiasHarzer/minimal-cors-server', 'ThePloy1990/FastAPI_HW', 'PongDev/DataSci-TraffyReportCountPrediction', 'nightowl92/studentGradesBack', 'Square-face/Henderson', 'Gwynbleidd0/DDA_WeaponDetector', 'dcanomainar10/structure', 'pkams/API-workshop', 'IHASCIONAL/REPO-DA-API', 'oele-isis-vanderbilt/NursingSimulation', 'lvgalvao/API-workshop02', 'Lin-JiaJun/SendGmail', 'LiliyaKazykhanova/SF_DS', 'kamran-tuni/ai-cracker', 'RomaDone21/fast_api_hw', 'hishamnasrallah/CSV_parser', 'toriium/form_sender', 'anupammaurya6767/Kanao', 'AdityaMayukhSom/disease-prolog-gui', 'fawrama/SpectreOra--FYP', 'bmu0/cat_charity_fund', 'alvarosperez/auto-analytx', 'qwality/CV_for_server', 'Sajjadhz/FARM-stack', 'aneesh-aparajit/inverse_search', 'OmdenaAI/sao-paulo-brazil-plant-diseases', 'EGA-archive/beacon2-ri-tools-v2', 'ressiwage/TESTTASK-fastapi-crud', 'merwanehamadi/AI-Maintainer', 'PabloLec/sb_keycloak_saml', 'Jinwook-Song/fullstack-gpt', 'lk34000/EnsaEats', 'Rasulid/FastAPI_Advenced', 'zemetsskiy/ProxyGuard', 'OGBaripins/cryptography_api', 'NancyPatel11/Data-Mining-Course-Project-3', 'Victor3637/Python_web_11', '9akashnp8/skill-bridge-ai', 'iDodir/ed_platform', 'dcomrad/graduate_work', 'Franz103/MasterThesis', 'stemadde/fp_universal_driver', 'Anthony-clintan/Backend_with_fastapi', 'kianurivzzz/fake-data-api', 'rohithgoli/into-fastapi', 'konstantinator/fastapi_hw_hse', 'EugPal/fastapi_tutorial', 'Ritwiz20/sentiment-analysis', 'tuxBurner/iothackPwnBot', 'Jqnxyz/fastapi-sample', 'SaranDharshanSP/FastAPI-Practice', 'SamSamhuns/human_body_proportion_estimation', 'Friskes/actions_ci_example', 'diamondburned/cpsc-449-project2', 'sdegueldre/chift-technical-test', 'misramrinal/fastapi-postgreSQL', 'paQQuete/wbtr_qual', 'ajohnson5/fpl_compare_app', 'nallann/fastapi', 'LucianoBatista/personal-qa-backend', 'GetLouied/OTCINFO', 'gBit-Legion/LiderOfDigitalTransformationWeaponDetect', 'Auditor1234/ProbVLM_for_semg', 'sudharsanmaran/eagle-bot-api-automation', 'philipnakhleh/activities_archive', 'resgjk/Catalog-AI', 'hungcaypccom/deploy3dmedv1', 'ossirytk/llama-cpp-chat-memory', 'NahyeonKang/upmentia', 'valldabo2/fastapi_heroku', 'leazadikian/Projet7-OpenClassrooms', 'martinsundeqvist/authentication-authorization-server', 'umemak/doctool_svelte', 'timnirmal/route-chat-recommand-chatbot', 'lylel/email-index-service', 'Choi-Jiwons/beyondfashion', 'Nicky-Georgia/FastAPI_HW', 'valentindjangone/syncflow_ai', 'wd400/pz_backend', 'yuukunya/pdf-summarizer']\n"
     ]
    }
   ],
   "source": [
    "print(len(result))\n",
    "print(result)"
   ]
  },
  {
   "cell_type": "markdown",
   "metadata": {},
   "source": [
    "### Get details of the found repos"
   ]
  },
  {
   "cell_type": "code",
   "execution_count": null,
   "metadata": {},
   "outputs": [],
   "source": [
    "github_api_key = os.environ.get('GITHUB_API_KEY')\n",
    "assert github_api_key is not None, \"You need to set your GITHUB_API_KEY environment variable.\"\n",
    "g = Github(github_api_key, retry=None)"
   ]
  },
  {
   "cell_type": "code",
   "execution_count": 19,
   "metadata": {},
   "outputs": [
    {
     "name": "stdout",
     "output_type": "stream",
     "text": [
      "Rate limit exceeded, retry at: 2023-11-17 17:35:45\n"
     ]
    }
   ],
   "source": [
    "def get_repo(name):\n",
    "    try: \n",
    "        repo = g.get_repo(name)\n",
    "        return {\n",
    "            'id': name,\n",
    "            'stars': repo.stargazers_count,\n",
    "            'forks': repo.forks_count,\n",
    "            'url': repo.html_url,\n",
    "        }\n",
    "        time.sleep(1)\n",
    "    except RateLimitExceededException as e:\n",
    "        print(\"Rate limit exceeded, retry at:\", datetime.datetime.fromtimestamp(int(e.headers['x-ratelimit-reset'])))\n",
    "    except Exception as e:\n",
    "        print(f\"Error downloading {name}:\", e)\n",
    "        return None\n",
    "\n",
    "get_repo(\"tiangolo/fastapi\")"
   ]
  },
  {
   "cell_type": "code",
   "execution_count": 69,
   "metadata": {},
   "outputs": [
    {
     "name": "stdout",
     "output_type": "stream",
     "text": [
      "Getting repos\n"
     ]
    },
    {
     "name": "stderr",
     "output_type": "stream",
     "text": [
      "  0%|          | 14/3567 [00:02<09:51,  6.00it/s]"
     ]
    },
    {
     "name": "stdout",
     "output_type": "stream",
     "text": [
      "Error downloading gireeshkbogu/comic_grill: 404 {\"message\": \"Not Found\", \"documentation_url\": \"https://docs.github.com/rest/repos/repos#get-a-repository\"}\n"
     ]
    },
    {
     "name": "stderr",
     "output_type": "stream",
     "text": [
      " 29%|██▉       | 1030/3567 [03:14<07:58,  5.30it/s]\n"
     ]
    },
    {
     "ename": "NameError",
     "evalue": "name 'datetime' is not defined",
     "output_type": "error",
     "traceback": [
      "\u001b[0;31m---------------------------------------------------------------------------\u001b[0m",
      "\u001b[0;31mRateLimitExceededException\u001b[0m                Traceback (most recent call last)",
      "\u001b[1;32m/Users/jvh/Desktop/codemate/ingestion/load_repos.ipynb Cell 8\u001b[0m line \u001b[0;36m3\n\u001b[1;32m      <a href='vscode-notebook-cell:/Users/jvh/Desktop/codemate/ingestion/load_repos.ipynb#X10sZmlsZQ%3D%3D?line=1'>2</a>\u001b[0m \u001b[39mtry\u001b[39;00m: \n\u001b[0;32m----> <a href='vscode-notebook-cell:/Users/jvh/Desktop/codemate/ingestion/load_repos.ipynb#X10sZmlsZQ%3D%3D?line=2'>3</a>\u001b[0m     repo \u001b[39m=\u001b[39m g\u001b[39m.\u001b[39;49mget_repo(name)\n\u001b[1;32m      <a href='vscode-notebook-cell:/Users/jvh/Desktop/codemate/ingestion/load_repos.ipynb#X10sZmlsZQ%3D%3D?line=3'>4</a>\u001b[0m     \u001b[39mreturn\u001b[39;00m {\n\u001b[1;32m      <a href='vscode-notebook-cell:/Users/jvh/Desktop/codemate/ingestion/load_repos.ipynb#X10sZmlsZQ%3D%3D?line=4'>5</a>\u001b[0m         \u001b[39m'\u001b[39m\u001b[39mid\u001b[39m\u001b[39m'\u001b[39m: name,\n\u001b[1;32m      <a href='vscode-notebook-cell:/Users/jvh/Desktop/codemate/ingestion/load_repos.ipynb#X10sZmlsZQ%3D%3D?line=5'>6</a>\u001b[0m         \u001b[39m#'repo_name': repo.full_name,\u001b[39;00m\n\u001b[0;32m   (...)\u001b[0m\n\u001b[1;32m     <a href='vscode-notebook-cell:/Users/jvh/Desktop/codemate/ingestion/load_repos.ipynb#X10sZmlsZQ%3D%3D?line=9'>10</a>\u001b[0m         \u001b[39m'\u001b[39m\u001b[39mrepo\u001b[39m\u001b[39m'\u001b[39m: repo\n\u001b[1;32m     <a href='vscode-notebook-cell:/Users/jvh/Desktop/codemate/ingestion/load_repos.ipynb#X10sZmlsZQ%3D%3D?line=10'>11</a>\u001b[0m     }\n",
      "File \u001b[0;32m~/Desktop/codemate/backend/.venv/lib/python3.10/site-packages/github/MainClass.py:380\u001b[0m, in \u001b[0;36mGithub.get_repo\u001b[0;34m(self, full_name_or_id, lazy)\u001b[0m\n\u001b[1;32m    379\u001b[0m     \u001b[39mreturn\u001b[39;00m github\u001b[39m.\u001b[39mRepository\u001b[39m.\u001b[39mRepository(\u001b[39mself\u001b[39m\u001b[39m.\u001b[39m__requester, {}, {\u001b[39m\"\u001b[39m\u001b[39murl\u001b[39m\u001b[39m\"\u001b[39m: url}, completed\u001b[39m=\u001b[39m\u001b[39mFalse\u001b[39;00m)\n\u001b[0;32m--> 380\u001b[0m headers, data \u001b[39m=\u001b[39m \u001b[39mself\u001b[39;49m\u001b[39m.\u001b[39;49m__requester\u001b[39m.\u001b[39;49mrequestJsonAndCheck(\u001b[39m\"\u001b[39;49m\u001b[39mGET\u001b[39;49m\u001b[39m\"\u001b[39;49m, url)\n\u001b[1;32m    381\u001b[0m \u001b[39mreturn\u001b[39;00m github\u001b[39m.\u001b[39mRepository\u001b[39m.\u001b[39mRepository(\u001b[39mself\u001b[39m\u001b[39m.\u001b[39m__requester, headers, data, completed\u001b[39m=\u001b[39m\u001b[39mTrue\u001b[39;00m)\n",
      "File \u001b[0;32m~/Desktop/codemate/backend/.venv/lib/python3.10/site-packages/github/Requester.py:494\u001b[0m, in \u001b[0;36mRequester.requestJsonAndCheck\u001b[0;34m(self, verb, url, parameters, headers, input)\u001b[0m\n\u001b[1;32m    486\u001b[0m \u001b[39mdef\u001b[39;00m \u001b[39mrequestJsonAndCheck\u001b[39m(\n\u001b[1;32m    487\u001b[0m     \u001b[39mself\u001b[39m,\n\u001b[1;32m    488\u001b[0m     verb: \u001b[39mstr\u001b[39m,\n\u001b[0;32m   (...)\u001b[0m\n\u001b[1;32m    492\u001b[0m     \u001b[39minput\u001b[39m: Optional[Any] \u001b[39m=\u001b[39m \u001b[39mNone\u001b[39;00m,\n\u001b[1;32m    493\u001b[0m ) \u001b[39m-\u001b[39m\u001b[39m>\u001b[39m Tuple[Dict[\u001b[39mstr\u001b[39m, Any], Any]:\n\u001b[0;32m--> 494\u001b[0m     \u001b[39mreturn\u001b[39;00m \u001b[39mself\u001b[39;49m\u001b[39m.\u001b[39;49m__check(\u001b[39m*\u001b[39;49m\u001b[39mself\u001b[39;49m\u001b[39m.\u001b[39;49mrequestJson(verb, url, parameters, headers, \u001b[39minput\u001b[39;49m, \u001b[39mself\u001b[39;49m\u001b[39m.\u001b[39;49m__customConnection(url)))\n",
      "File \u001b[0;32m~/Desktop/codemate/backend/.venv/lib/python3.10/site-packages/github/Requester.py:525\u001b[0m, in \u001b[0;36mRequester.__check\u001b[0;34m(self, status, responseHeaders, output)\u001b[0m\n\u001b[1;32m    524\u001b[0m \u001b[39mif\u001b[39;00m status \u001b[39m>\u001b[39m\u001b[39m=\u001b[39m \u001b[39m400\u001b[39m:\n\u001b[0;32m--> 525\u001b[0m     \u001b[39mraise\u001b[39;00m \u001b[39mself\u001b[39m\u001b[39m.\u001b[39mcreateException(status, responseHeaders, data)\n\u001b[1;32m    526\u001b[0m \u001b[39mreturn\u001b[39;00m responseHeaders, data\n",
      "\u001b[0;31mRateLimitExceededException\u001b[0m: 403 {\"message\": \"API rate limit exceeded for user ID 9884254. If you reach out to GitHub Support for help, please include the request ID CE43:BD33:766F79D:77BF3DA:65578A43.\", \"documentation_url\": \"https://docs.github.com/rest/overview/rate-limits-for-the-rest-api\"}",
      "\nDuring handling of the above exception, another exception occurred:\n",
      "\u001b[0;31mNameError\u001b[0m                                 Traceback (most recent call last)",
      "\u001b[1;32m/Users/jvh/Desktop/codemate/ingestion/load_repos.ipynb Cell 8\u001b[0m line \u001b[0;36m3\n\u001b[1;32m      <a href='vscode-notebook-cell:/Users/jvh/Desktop/codemate/ingestion/load_repos.ipynb#X10sZmlsZQ%3D%3D?line=0'>1</a>\u001b[0m \u001b[39mprint\u001b[39m(\u001b[39m\"\u001b[39m\u001b[39mGetting repos\u001b[39m\u001b[39m\"\u001b[39m)\n\u001b[1;32m      <a href='vscode-notebook-cell:/Users/jvh/Desktop/codemate/ingestion/load_repos.ipynb#X10sZmlsZQ%3D%3D?line=1'>2</a>\u001b[0m pool \u001b[39m=\u001b[39m ThreadPool(\u001b[39m3\u001b[39m)\n\u001b[0;32m----> <a href='vscode-notebook-cell:/Users/jvh/Desktop/codemate/ingestion/load_repos.ipynb#X10sZmlsZQ%3D%3D?line=2'>3</a>\u001b[0m repos \u001b[39m=\u001b[39m \u001b[39mlist\u001b[39;49m(tqdm(pool\u001b[39m.\u001b[39;49mimap(get_repo, result), total\u001b[39m=\u001b[39;49m\u001b[39mlen\u001b[39;49m(result)))\n\u001b[1;32m      <a href='vscode-notebook-cell:/Users/jvh/Desktop/codemate/ingestion/load_repos.ipynb#X10sZmlsZQ%3D%3D?line=3'>4</a>\u001b[0m repos \u001b[39m=\u001b[39m [r \u001b[39mfor\u001b[39;00m r \u001b[39min\u001b[39;00m repos \u001b[39mif\u001b[39;00m r \u001b[39mis\u001b[39;00m \u001b[39mnot\u001b[39;00m \u001b[39mNone\u001b[39;00m]\n\u001b[1;32m      <a href='vscode-notebook-cell:/Users/jvh/Desktop/codemate/ingestion/load_repos.ipynb#X10sZmlsZQ%3D%3D?line=4'>5</a>\u001b[0m repos_df \u001b[39m=\u001b[39m pd\u001b[39m.\u001b[39mDataFrame(repos)\n",
      "File \u001b[0;32m~/Desktop/codemate/backend/.venv/lib/python3.10/site-packages/tqdm/std.py:1182\u001b[0m, in \u001b[0;36mtqdm.__iter__\u001b[0;34m(self)\u001b[0m\n\u001b[1;32m   1179\u001b[0m time \u001b[39m=\u001b[39m \u001b[39mself\u001b[39m\u001b[39m.\u001b[39m_time\n\u001b[1;32m   1181\u001b[0m \u001b[39mtry\u001b[39;00m:\n\u001b[0;32m-> 1182\u001b[0m     \u001b[39mfor\u001b[39;00m obj \u001b[39min\u001b[39;00m iterable:\n\u001b[1;32m   1183\u001b[0m         \u001b[39myield\u001b[39;00m obj\n\u001b[1;32m   1184\u001b[0m         \u001b[39m# Update and possibly print the progressbar.\u001b[39;00m\n\u001b[1;32m   1185\u001b[0m         \u001b[39m# Note: does not call self.update(1) for speed optimisation.\u001b[39;00m\n",
      "File \u001b[0;32m/usr/local/Cellar/python@3.10/3.10.11/Frameworks/Python.framework/Versions/3.10/lib/python3.10/multiprocessing/pool.py:873\u001b[0m, in \u001b[0;36mIMapIterator.next\u001b[0;34m(self, timeout)\u001b[0m\n\u001b[1;32m    871\u001b[0m \u001b[39mif\u001b[39;00m success:\n\u001b[1;32m    872\u001b[0m     \u001b[39mreturn\u001b[39;00m value\n\u001b[0;32m--> 873\u001b[0m \u001b[39mraise\u001b[39;00m value\n",
      "File \u001b[0;32m/usr/local/Cellar/python@3.10/3.10.11/Frameworks/Python.framework/Versions/3.10/lib/python3.10/multiprocessing/pool.py:125\u001b[0m, in \u001b[0;36mworker\u001b[0;34m(inqueue, outqueue, initializer, initargs, maxtasks, wrap_exception)\u001b[0m\n\u001b[1;32m    123\u001b[0m job, i, func, args, kwds \u001b[39m=\u001b[39m task\n\u001b[1;32m    124\u001b[0m \u001b[39mtry\u001b[39;00m:\n\u001b[0;32m--> 125\u001b[0m     result \u001b[39m=\u001b[39m (\u001b[39mTrue\u001b[39;00m, func(\u001b[39m*\u001b[39;49margs, \u001b[39m*\u001b[39;49m\u001b[39m*\u001b[39;49mkwds))\n\u001b[1;32m    126\u001b[0m \u001b[39mexcept\u001b[39;00m \u001b[39mException\u001b[39;00m \u001b[39mas\u001b[39;00m e:\n\u001b[1;32m    127\u001b[0m     \u001b[39mif\u001b[39;00m wrap_exception \u001b[39mand\u001b[39;00m func \u001b[39mis\u001b[39;00m \u001b[39mnot\u001b[39;00m _helper_reraises_exception:\n",
      "\u001b[1;32m/Users/jvh/Desktop/codemate/ingestion/load_repos.ipynb Cell 8\u001b[0m line \u001b[0;36m1\n\u001b[1;32m     <a href='vscode-notebook-cell:/Users/jvh/Desktop/codemate/ingestion/load_repos.ipynb#X10sZmlsZQ%3D%3D?line=11'>12</a>\u001b[0m     time\u001b[39m.\u001b[39msleep(\u001b[39m1\u001b[39m)\n\u001b[1;32m     <a href='vscode-notebook-cell:/Users/jvh/Desktop/codemate/ingestion/load_repos.ipynb#X10sZmlsZQ%3D%3D?line=12'>13</a>\u001b[0m \u001b[39mexcept\u001b[39;00m RateLimitExceededException \u001b[39mas\u001b[39;00m e:\n\u001b[0;32m---> <a href='vscode-notebook-cell:/Users/jvh/Desktop/codemate/ingestion/load_repos.ipynb#X10sZmlsZQ%3D%3D?line=13'>14</a>\u001b[0m     \u001b[39mprint\u001b[39m(\u001b[39m\"\u001b[39m\u001b[39mRate limit exceeded, retry at:\u001b[39m\u001b[39m\"\u001b[39m, datetime\u001b[39m.\u001b[39mdatetime\u001b[39m.\u001b[39mfromtimestamp(\u001b[39mint\u001b[39m(e\u001b[39m.\u001b[39mheaders[\u001b[39m'\u001b[39m\u001b[39mx-ratelimit-reset\u001b[39m\u001b[39m'\u001b[39m])))\n\u001b[1;32m     <a href='vscode-notebook-cell:/Users/jvh/Desktop/codemate/ingestion/load_repos.ipynb#X10sZmlsZQ%3D%3D?line=14'>15</a>\u001b[0m \u001b[39mexcept\u001b[39;00m \u001b[39mException\u001b[39;00m \u001b[39mas\u001b[39;00m e:\n\u001b[1;32m     <a href='vscode-notebook-cell:/Users/jvh/Desktop/codemate/ingestion/load_repos.ipynb#X10sZmlsZQ%3D%3D?line=15'>16</a>\u001b[0m     \u001b[39mprint\u001b[39m(\u001b[39mf\u001b[39m\u001b[39m\"\u001b[39m\u001b[39mError downloading \u001b[39m\u001b[39m{\u001b[39;00mname\u001b[39m}\u001b[39;00m\u001b[39m:\u001b[39m\u001b[39m\"\u001b[39m, e)\n",
      "\u001b[0;31mNameError\u001b[0m: name 'datetime' is not defined"
     ]
    }
   ],
   "source": [
    "print(\"Getting repos\")\n",
    "pool = ThreadPool(3)\n",
    "repos = list(tqdm(pool.imap(get_repo, result), total=len(result)))\n",
    "repos = [r for r in repos if r is not None]\n",
    "repos_df = pd.DataFrame(repos)"
   ]
  },
  {
   "cell_type": "code",
   "execution_count": 13,
   "metadata": {},
   "outputs": [],
   "source": [
    "if repos is None:\n",
    "    repos = [\n",
    "        {\n",
    "            \"id\": \"HeavY-Futhark/EmoBot\",\n",
    "            \"stars\": 0,\n",
    "            \"forks\": 0,\n",
    "            \"url\": \"https://github.com/HeavY-Futhark/EmoBot\",\n",
    "            #'repo': Repository(full_name=\"HeavY-Futhark/EmoBot\")\n",
    "        },\n",
    "        {\n",
    "            \"id\": \"olajide1234/nurfa\",\n",
    "            \"stars\": 0,\n",
    "            \"forks\": 0,\n",
    "            \"url\": \"https://github.com/olajide1234/nurfa\",\n",
    "            #'repo': Repository(full_name=\"olajide1234/nurfa\"\n",
    "        },\n",
    "        {\n",
    "            \"id\": \"InteliProjects/2023M7T1-Inteli-Grupo-5\",\n",
    "            \"stars\": 0,\n",
    "            \"forks\": 0,\n",
    "            \"url\": \"https://github.com/InteliProjects/2023M7T1-Inteli-Grupo-5\",\n",
    "            #'repo': Repository(full_name=\"InteliProjects/2023M7T1-Inteli-Grupo-5\"\n",
    "        },\n",
    "    ]\n",
    "    repos_df = pd.DataFrame(repos)"
   ]
  },
  {
   "cell_type": "code",
   "execution_count": 14,
   "metadata": {},
   "outputs": [
    {
     "data": {
      "text/html": [
       "<div>\n",
       "<style scoped>\n",
       "    .dataframe tbody tr th:only-of-type {\n",
       "        vertical-align: middle;\n",
       "    }\n",
       "\n",
       "    .dataframe tbody tr th {\n",
       "        vertical-align: top;\n",
       "    }\n",
       "\n",
       "    .dataframe thead th {\n",
       "        text-align: right;\n",
       "    }\n",
       "</style>\n",
       "<table border=\"1\" class=\"dataframe\">\n",
       "  <thead>\n",
       "    <tr style=\"text-align: right;\">\n",
       "      <th></th>\n",
       "      <th>id</th>\n",
       "      <th>stars</th>\n",
       "      <th>forks</th>\n",
       "      <th>url</th>\n",
       "    </tr>\n",
       "  </thead>\n",
       "  <tbody>\n",
       "    <tr>\n",
       "      <th>0</th>\n",
       "      <td>HeavY-Futhark/EmoBot</td>\n",
       "      <td>0</td>\n",
       "      <td>0</td>\n",
       "      <td>https://github.com/HeavY-Futhark/EmoBot</td>\n",
       "    </tr>\n",
       "    <tr>\n",
       "      <th>1</th>\n",
       "      <td>olajide1234/nurfa</td>\n",
       "      <td>0</td>\n",
       "      <td>0</td>\n",
       "      <td>https://github.com/olajide1234/nurfa</td>\n",
       "    </tr>\n",
       "    <tr>\n",
       "      <th>2</th>\n",
       "      <td>InteliProjects/2023M7T1-Inteli-Grupo-5</td>\n",
       "      <td>0</td>\n",
       "      <td>0</td>\n",
       "      <td>https://github.com/InteliProjects/2023M7T1-Int...</td>\n",
       "    </tr>\n",
       "  </tbody>\n",
       "</table>\n",
       "</div>"
      ],
      "text/plain": [
       "                                       id  stars  forks  \\\n",
       "0                    HeavY-Futhark/EmoBot      0      0   \n",
       "1                       olajide1234/nurfa      0      0   \n",
       "2  InteliProjects/2023M7T1-Inteli-Grupo-5      0      0   \n",
       "\n",
       "                                                 url  \n",
       "0            https://github.com/HeavY-Futhark/EmoBot  \n",
       "1               https://github.com/olajide1234/nurfa  \n",
       "2  https://github.com/InteliProjects/2023M7T1-Int...  "
      ]
     },
     "metadata": {},
     "output_type": "display_data"
    }
   ],
   "source": [
    "with pd.option_context('display.max_rows', None, 'display.max_columns', None):  # more options can be specified also\n",
    "    display(repos_df.sort_values(by=['stars'], ascending=False).head(50))"
   ]
  },
  {
   "cell_type": "code",
   "execution_count": 15,
   "metadata": {},
   "outputs": [
    {
     "data": {
      "text/html": [
       "<div>\n",
       "<style scoped>\n",
       "    .dataframe tbody tr th:only-of-type {\n",
       "        vertical-align: middle;\n",
       "    }\n",
       "\n",
       "    .dataframe tbody tr th {\n",
       "        vertical-align: top;\n",
       "    }\n",
       "\n",
       "    .dataframe thead th {\n",
       "        text-align: right;\n",
       "    }\n",
       "</style>\n",
       "<table border=\"1\" class=\"dataframe\">\n",
       "  <thead>\n",
       "    <tr style=\"text-align: right;\">\n",
       "      <th></th>\n",
       "      <th>id</th>\n",
       "      <th>stars</th>\n",
       "      <th>forks</th>\n",
       "      <th>url</th>\n",
       "    </tr>\n",
       "  </thead>\n",
       "  <tbody>\n",
       "    <tr>\n",
       "      <th>0</th>\n",
       "      <td>HeavY-Futhark/EmoBot</td>\n",
       "      <td>0</td>\n",
       "      <td>0</td>\n",
       "      <td>https://github.com/HeavY-Futhark/EmoBot</td>\n",
       "    </tr>\n",
       "    <tr>\n",
       "      <th>1</th>\n",
       "      <td>olajide1234/nurfa</td>\n",
       "      <td>0</td>\n",
       "      <td>0</td>\n",
       "      <td>https://github.com/olajide1234/nurfa</td>\n",
       "    </tr>\n",
       "    <tr>\n",
       "      <th>2</th>\n",
       "      <td>InteliProjects/2023M7T1-Inteli-Grupo-5</td>\n",
       "      <td>0</td>\n",
       "      <td>0</td>\n",
       "      <td>https://github.com/InteliProjects/2023M7T1-Int...</td>\n",
       "    </tr>\n",
       "  </tbody>\n",
       "</table>\n",
       "</div>"
      ],
      "text/plain": [
       "                                       id  stars  forks  \\\n",
       "0                    HeavY-Futhark/EmoBot      0      0   \n",
       "1                       olajide1234/nurfa      0      0   \n",
       "2  InteliProjects/2023M7T1-Inteli-Grupo-5      0      0   \n",
       "\n",
       "                                                 url  \n",
       "0            https://github.com/HeavY-Futhark/EmoBot  \n",
       "1               https://github.com/olajide1234/nurfa  \n",
       "2  https://github.com/InteliProjects/2023M7T1-Int...  "
      ]
     },
     "execution_count": 15,
     "metadata": {},
     "output_type": "execute_result"
    }
   ],
   "source": [
    "repos_df.sort_values(by=['stars'], ascending=False).head(10)"
   ]
  },
  {
   "cell_type": "markdown",
   "metadata": {},
   "source": [
    "### Download and unzip these repos"
   ]
  },
  {
   "cell_type": "code",
   "execution_count": 18,
   "metadata": {},
   "outputs": [
    {
     "name": "stderr",
     "output_type": "stream",
     "text": [
      "3it [00:22,  7.55s/it]\n"
     ]
    }
   ],
   "source": [
    "def download_and_unzip(url, extract_to):\n",
    "    http_response = urlopen(url)\n",
    "    zipfile = ZipFile(BytesIO(http_response.read()))\n",
    "    zipfile.extractall(path=extract_to)\n",
    "\n",
    "def download_repo(repo_id, extract_to):\n",
    "    try: \n",
    "        # Automatically downloads main if master doesn't exist\n",
    "        download_and_unzip(f\"https://github.com/{repo_id}/archive/refs/heads/master.zip\", extract_to=extract_to)\n",
    "    except:\n",
    "        print(f\"Error downloading repo {repo_id}\")\n",
    "\n",
    "os.makedirs(\"data\", exist_ok=True)\n",
    "for i, row in tqdm(repos_df.iterrows()): \n",
    "    download_repo(row['id'], extract_to=\"data\")"
   ]
  },
  {
   "cell_type": "markdown",
   "metadata": {},
   "source": [
    "### Ingest the files"
   ]
  },
  {
   "cell_type": "code",
   "execution_count": 2,
   "metadata": {},
   "outputs": [
    {
     "data": {
      "text/plain": [
       "(1848,\n",
       " ['data/nurfa-main/README.md',\n",
       "  'data/nurfa-main/tests/__init__.py',\n",
       "  'data/nurfa-main/nurfa/__init__.py',\n",
       "  'data/nurfa-main/nurfa/consts.py',\n",
       "  'data/nurfa-main/nurfa/main.py'])"
      ]
     },
     "execution_count": 2,
     "metadata": {},
     "output_type": "execute_result"
    }
   ],
   "source": [
    "all_files = []\n",
    "\n",
    "for root, dirs, files in os.walk(\"data\", topdown=True):\n",
    "   if root in ['data/.meta', 'data']:\n",
    "      continue\n",
    "\n",
    "   files = [os.path.join(root, f) for f in files if f.endswith('.py') or f.endswith('.md')]\n",
    "   all_files += files\n",
    "\n",
    "len(all_files), all_files[:5]"
   ]
  },
  {
   "cell_type": "code",
   "execution_count": 3,
   "metadata": {},
   "outputs": [],
   "source": [
    "pinecone_api_key = os.environ.get(\"PINECONE_API_KEY\", None)\n",
    "assert pinecone_api_key is not None, \"Needs PINECONE_API_KEY\"\n",
    "pinecone.init(      \n",
    "\tapi_key=pinecone_api_key,      \n",
    "\tenvironment='gcp-starter'      \n",
    ")      \n",
    "index = pinecone.Index('codemate')"
   ]
  },
  {
   "cell_type": "code",
   "execution_count": 4,
   "metadata": {},
   "outputs": [],
   "source": [
    "text_splitter = RecursiveCharacterTextSplitter.from_language(\n",
    "    language=Language.PYTHON, chunk_size=400, chunk_overlap=100\n",
    ")"
   ]
  },
  {
   "cell_type": "code",
   "execution_count": 5,
   "metadata": {},
   "outputs": [
    {
     "data": {
      "text/plain": [
       "Document(page_content='from datetime import datetime, timedelta\\nfrom typing import Literal\\n\\n\\nPossibleCategory = Literal[\\n    \"business\", \"entertainment\", \"general\", \"health\", \"science\", \"sports\", \"technology\"\\n]\\n\\nPossibleCountry = Literal[\\n    \"ae\",\\n    \"ar\",\\n    \"at\",\\n    \"au\",\\n    \"be\",\\n    \"bg\",\\n    \"br\",\\n    \"ca\",\\n    \"ch\",\\n    \"cn\",\\n    \"co\",\\n    \"cu\",\\n    \"cz\",\\n    \"de\",\\n    \"eg\",\\n    \"fr\",\\n    \"gb\",\\n    \"gr\",\\n    \"hk\",\\n    \"hu\",\\n    \"id\",\\n    \"ie\",\\n    \"il\",\\n    \"in\",\\n    \"it\",\\n    \"jp\",\\n    \"kr\",\\n    \"lt\",\\n    \"lv\",\\n    \"ma\",\\n    \"mx\",\\n    \"my\",\\n    \"ng\",\\n    \"nl\",\\n    \"no\",\\n    \"nz\",\\n    \"ph\",\\n    \"pl\",\\n    \"pt\",\\n    \"ro\",\\n    \"rs\",\\n    \"ru\",\\n    \"sa\",\\n    \"se\",\\n    \"sg\",\\n    \"si\",\\n    \"sk\",\\n    \"th\",\\n    \"tr\",\\n    \"tw\",\\n    \"vu\",\\n    \"av\",\\n    \"us\",\\n    \"ve\",\\n    \"za\",\\n]\\n\\nPossibleSearchIn = Literal[\\n    \"title\",\\n    \"description\",\\n    \"content\",\\n    \"title,description\",\\n    \"title,content\",\\n    \"description,content\",\\n    \"title,description,content\",\\n]\\n\\nPossibleSortBy = Literal[\"relevancy\", \"popularity\", \"publishedAt\"]\\n\\nPossibleLanguage = Literal[\\n    \"ar\", \"de\", \"en\", \"es\", \"fr\", \"he\", \"it\", \"nl\", \"no\", \"pt\", \"ru\", \"sv\", \"ud\", \"zh\"\\n]\\n\\ndate_now = datetime.now().isoformat()\\ndate_one_month_ago = (datetime.now() - timedelta(days=30)).isoformat()\\n', metadata={'filename': 'data/nurfa-main/nurfa/consts.py'})"
      ]
     },
     "execution_count": 5,
     "metadata": {},
     "output_type": "execute_result"
    }
   ],
   "source": [
    "texts = []\n",
    "for file in all_files: \n",
    "    with open(file) as f: \n",
    "        file_content = f.read()\n",
    "        if file_content:\n",
    "            texts.append(Document(page_content=file_content, metadata={\"filename\": file}))\n",
    "\n",
    "texts[0]"
   ]
  },
  {
   "cell_type": "code",
   "execution_count": 6,
   "metadata": {},
   "outputs": [],
   "source": [
    "chunks = text_splitter.split_documents(texts)"
   ]
  },
  {
   "cell_type": "code",
   "execution_count": 7,
   "metadata": {},
   "outputs": [
    {
     "data": {
      "text/plain": [
       "(28347,\n",
       " Document(page_content='from datetime import datetime, timedelta\\nfrom typing import Literal\\n\\n\\nPossibleCategory = Literal[\\n    \"business\", \"entertainment\", \"general\", \"health\", \"science\", \"sports\", \"technology\"\\n]', metadata={'filename': 'data/nurfa-main/nurfa/consts.py'}))"
      ]
     },
     "execution_count": 7,
     "metadata": {},
     "output_type": "execute_result"
    }
   ],
   "source": [
    "len(chunks), chunks[0]"
   ]
  },
  {
   "cell_type": "code",
   "execution_count": null,
   "metadata": {},
   "outputs": [],
   "source": [
    "embeddings = OpenAIEmbeddings()\n",
    "\n",
    "index_name = \"codemate\"\n",
    "if index_name not in pinecone.list_indexes():\n",
    "    pinecone.create_index(name=index_name, metric=\"cosine\", dimension=1536)\n",
    "\n",
    "docsearch = Pinecone.from_documents(chunks, embeddings, index_name=index_name)"
   ]
  },
  {
   "cell_type": "code",
   "execution_count": null,
   "metadata": {},
   "outputs": [],
   "source": []
  }
 ],
 "metadata": {
  "kernelspec": {
   "display_name": ".venv",
   "language": "python",
   "name": "python3"
  },
  "language_info": {
   "codemirror_mode": {
    "name": "ipython",
    "version": 3
   },
   "file_extension": ".py",
   "mimetype": "text/x-python",
   "name": "python",
   "nbconvert_exporter": "python",
   "pygments_lexer": "ipython3",
   "version": "3.10.11"
  }
 },
 "nbformat": 4,
 "nbformat_minor": 2
}
