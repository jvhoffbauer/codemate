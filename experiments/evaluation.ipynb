{
 "cells": [
  {
   "cell_type": "code",
   "execution_count": 14,
   "metadata": {},
   "outputs": [],
   "source": [
    "import dotenv\n",
    "dotenv.load_dotenv('../backend/.env')\n",
    "\n",
    "import openai\n",
    "import langchain\n",
    "from langchain.llms import OpenAI\n",
    "from langchain.chains import LLMChain\n",
    "from langchain.chat_models import ChatOpenAI\n",
    "from langchain.prompts import PromptTemplate\n",
    "from langchain.callbacks import get_openai_callback\n",
    "import numpy as np"
   ]
  },
  {
   "cell_type": "code",
   "execution_count": 42,
   "metadata": {},
   "outputs": [],
   "source": [
    "COMPARISON_PROMPT = \"\"\"\n",
    "You are helping a person writing the current code in the excerpt below. You can suggest them to use one of the snippets below. \n",
    "Your goal is to suggest the snippet that does what the current code does in the best way possible.\n",
    "\n",
    "Current code:\n",
    "```python\n",
    "{snippet}\n",
    "```\n",
    "\n",
    "Suggested snippet 1: \n",
    "```python\n",
    "{example_1}\n",
    "```\n",
    "\n",
    "Suggested snippet 2:\n",
    "```python\n",
    "{example_2}\n",
    "```\n",
    "\n",
    "Which snippet is the best one? Print only 1 or 2. \n",
    "\"\"\".strip()\n",
    "\n",
    "prompt = PromptTemplate(template=COMPARISON_PROMPT, input_variables=[\"snippet\", \"example_1\", \"example_2\"])"
   ]
  },
  {
   "cell_type": "code",
   "execution_count": 43,
   "metadata": {},
   "outputs": [],
   "source": [
    "SNIPPET = '''\n",
    "from fastapi import FastAPI, File, UploadFile\n",
    "\n",
    "app = FastAPI()\n",
    "\n",
    "@app.post(\"/uploadfile/\")\n",
    "def create_upload_file(file: UploadFile = File(...)):\n",
    "    \"\"\"\n",
    "    Save the uploaded file to the uploads directory\n",
    "    \"\"\"\n",
    "\n",
    "    with open(f\"uploads/{file.filename}\", \"wb\") as f:\n",
    "        f.write(file.file.read())\n",
    "    \n",
    "    return {\"filename\": file.filename, \"message\": \"File uploaded successfully\"}\n",
    "'''\n",
    "\n",
    "EXAMPLE_1 = \"\"\"\n",
    "def upload_image(\n",
    "        file: UploadFile = File(...),\n",
    "):\n",
    "    # 本地存储临时方案，一般生产都是使用第三方云存储OSS(如七牛云, 阿里云)\n",
    "    # 建议计算并记录一次 文件md5值 避免重复存储相同资源\n",
    "    save_dir = f\"{settings.BASE_PATH}/static/img\"\n",
    "\n",
    "    if not os.path.exists(save_dir):\n",
    "        os.mkdir(save_dir)\n",
    "    try:\n",
    "        suffix = Path(file.filename).suffix\n",
    "\n",
    "        with NamedTemporaryFile(delete=False, suffix=suffix, dir=save_dir) as tmp:\n",
    "            shutil.copyfileobj(file.file, tmp)\n",
    "            tmp_file_name = Path(tmp.name).name\n",
    "    finally:\n",
    "        file.file.close()\n",
    "\n",
    "    return resp.ok(data={\"image\": f\"/static/img/{tmp_file_name}\"})\n",
    "\"\"\"\n",
    "\n",
    "EXAMPLE_2 = '''\n",
    "from typing import Union\n",
    "\n",
    "from fastapi import FastAPI, File, UploadFile\n",
    "from typing_extensions import Annotated\n",
    "\n",
    "app = FastAPI()\n",
    "\n",
    "\n",
    "@app.post(\"/files/\")\n",
    "async def create_file(file: Annotated[Union[bytes, None], File()] = None):\n",
    "    if not file:\n",
    "        return {\"message\": \"No file sent\"}\n",
    "    else:\n",
    "        return {\"file_size\": len(file)}\n",
    "\n",
    "\n",
    "@app.post(\"/uploadfile/\")\n",
    "async def create_upload_file(file: Union[UploadFile, None] = None):\n",
    "    if not file:\n",
    "        return {\"message\": \"No upload file sent\"}\n",
    "    else:\n",
    "        return {\"filename\": file.filename}\n",
    "'''\n",
    "\n",
    "SNIPPET = SNIPPET.strip()\n",
    "EXAMPLE_1 = EXAMPLE_1.strip()\n",
    "EXAMPLE_2 = EXAMPLE_2.strip()"
   ]
  },
  {
   "cell_type": "code",
   "execution_count": 44,
   "metadata": {},
   "outputs": [],
   "source": [
    "llm = ChatOpenAI(model_name='gpt-4', temperature=0)\n",
    "chain = prompt | llm"
   ]
  },
  {
   "cell_type": "code",
   "execution_count": 45,
   "metadata": {},
   "outputs": [],
   "source": [
    "def run_pair_comparison(snippet, example_1, example_2):\n",
    "    # Swap in 50% of the cases\n",
    "    swap = np.random.choice([True, False])\n",
    "    if swap:\n",
    "        example_1, example_2 = example_2, example_1\n",
    "    \n",
    "    # Run the chain\n",
    "    result = chain.invoke(dict(snippet=snippet, example_1=example_1, example_2=example_2))\n",
    "    result = result.content\n",
    "    result = result.strip()\n",
    "    result = int(result) \n",
    "\n",
    "    if swap:\n",
    "        result = 2 if result == 1 else 1\n",
    "\n",
    "    result = result - 1\n",
    "    return result, swap"
   ]
  },
  {
   "cell_type": "code",
   "execution_count": 48,
   "metadata": {},
   "outputs": [
    {
     "name": "stdout",
     "output_type": "stream",
     "text": [
      "Iteration 0: 0\n",
      "Iteration 1: 0\n",
      "Iteration 2: 0\n",
      "Iteration 3: 1\n",
      "Iteration 4: 0\n",
      "Cost of this evaluation 0.07830000000000001$\n"
     ]
    }
   ],
   "source": [
    "with get_openai_callback() as cb:\n",
    "    for i in range(5):\n",
    "        result = run_pair_comparison(SNIPPET, EXAMPLE_1, EXAMPLE_2)\n",
    "        print(f'Iteration {i}: {result}')\n",
    "\n",
    "print(f'Cost of this evaluation {cb.total_cost}$')"
   ]
  },
  {
   "cell_type": "markdown",
   "metadata": {},
   "source": [
    "Running comparison with 3 models:"
   ]
  },
  {
   "cell_type": "code",
   "execution_count": 53,
   "metadata": {},
   "outputs": [
    {
     "data": {
      "text/plain": [
       "0.9341999999999999"
      ]
     },
     "execution_count": 53,
     "metadata": {},
     "output_type": "execute_result"
    }
   ],
   "source": [
    "cost_for_3_way_comparison_n_20 = 0.07784999999999999 / 5 * 20 * 3\n",
    "cost_for_3_way_comparison_n_20"
   ]
  },
  {
   "cell_type": "code",
   "execution_count": null,
   "metadata": {},
   "outputs": [],
   "source": []
  }
 ],
 "metadata": {
  "kernelspec": {
   "display_name": ".venv",
   "language": "python",
   "name": "python3"
  },
  "language_info": {
   "codemirror_mode": {
    "name": "ipython",
    "version": 3
   },
   "file_extension": ".py",
   "mimetype": "text/x-python",
   "name": "python",
   "nbconvert_exporter": "python",
   "pygments_lexer": "ipython3",
   "version": "3.10.11"
  }
 },
 "nbformat": 4,
 "nbformat_minor": 2
}
